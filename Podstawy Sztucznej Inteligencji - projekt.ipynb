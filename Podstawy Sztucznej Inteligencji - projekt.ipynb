{
 "cells": [
  {
   "cell_type": "markdown",
   "id": "65888739",
   "metadata": {},
   "source": [
    "# Przewidywanie chorób serca na podstawie innych czynników zdrowotnych"
   ]
  },
  {
   "cell_type": "markdown",
   "id": "52f6c688",
   "metadata": {},
   "source": [
    "Zadaniem projektu jest porównanie popularnych modeli klasyfikacji nauczonych na zbiorze: ***Personal Key Indicators of Heart Disease*** autorstwa Kamila Pytlaka https://www.kaggle.com/datasets/kamilpytlak/personal-key-indicators-of-heart-disease"
   ]
  },
  {
   "cell_type": "code",
   "execution_count": 2,
   "id": "137ea3bd",
   "metadata": {},
   "outputs": [],
   "source": [
    "from sklearn.linear_model import LinearRegression ,LogisticRegression\n",
    "from sklearn.tree import DecisionTreeClassifier\n",
    "from sklearn.neighbors import KNeighborsClassifier\n",
    "from sklearn.naive_bayes import GaussianNB\n",
    "from sklearn.ensemble import AdaBoostRegressor\n",
    "from sklearn.ensemble import RandomForestClassifier\n",
    "from sklearn.svm import SVC ,SVR\n",
    "from sklearn.metrics import *\n",
    "from sklearn.model_selection import GridSearchCV\n",
    "\n",
    "import os\n",
    "import numpy as np\n",
    "import pandas as pd\n",
    "from sklearn.preprocessing import LabelEncoder\n",
    "from sklearn.model_selection import train_test_split \n",
    "\n",
    "import matplotlib.pyplot as plt\n",
    "import seaborn as sns\n",
    "import plotly.express as px\n",
    "import plotly.graph_objects as go\n",
    "from plotly.subplots import make_subplots"
   ]
  },
  {
   "cell_type": "markdown",
   "id": "28b9e2a7",
   "metadata": {},
   "source": [
    "## Ładowanie danych"
   ]
  },
  {
   "cell_type": "code",
   "execution_count": 3,
   "id": "35fae54c",
   "metadata": {},
   "outputs": [
    {
     "data": {
      "text/html": [
       "<div>\n",
       "<style scoped>\n",
       "    .dataframe tbody tr th:only-of-type {\n",
       "        vertical-align: middle;\n",
       "    }\n",
       "\n",
       "    .dataframe tbody tr th {\n",
       "        vertical-align: top;\n",
       "    }\n",
       "\n",
       "    .dataframe thead th {\n",
       "        text-align: right;\n",
       "    }\n",
       "</style>\n",
       "<table border=\"1\" class=\"dataframe\">\n",
       "  <thead>\n",
       "    <tr style=\"text-align: right;\">\n",
       "      <th></th>\n",
       "      <th>HeartDisease</th>\n",
       "      <th>BMI</th>\n",
       "      <th>Smoking</th>\n",
       "      <th>AlcoholDrinking</th>\n",
       "      <th>Stroke</th>\n",
       "      <th>PhysicalHealth</th>\n",
       "      <th>MentalHealth</th>\n",
       "      <th>DiffWalking</th>\n",
       "      <th>Sex</th>\n",
       "      <th>AgeCategory</th>\n",
       "      <th>Race</th>\n",
       "      <th>Diabetic</th>\n",
       "      <th>PhysicalActivity</th>\n",
       "      <th>GenHealth</th>\n",
       "      <th>SleepTime</th>\n",
       "      <th>Asthma</th>\n",
       "      <th>KidneyDisease</th>\n",
       "      <th>SkinCancer</th>\n",
       "    </tr>\n",
       "  </thead>\n",
       "  <tbody>\n",
       "    <tr>\n",
       "      <th>0</th>\n",
       "      <td>No</td>\n",
       "      <td>16.60</td>\n",
       "      <td>Yes</td>\n",
       "      <td>No</td>\n",
       "      <td>No</td>\n",
       "      <td>3.0</td>\n",
       "      <td>30.0</td>\n",
       "      <td>No</td>\n",
       "      <td>Female</td>\n",
       "      <td>55-59</td>\n",
       "      <td>White</td>\n",
       "      <td>Yes</td>\n",
       "      <td>Yes</td>\n",
       "      <td>Very good</td>\n",
       "      <td>5.0</td>\n",
       "      <td>Yes</td>\n",
       "      <td>No</td>\n",
       "      <td>Yes</td>\n",
       "    </tr>\n",
       "    <tr>\n",
       "      <th>1</th>\n",
       "      <td>No</td>\n",
       "      <td>20.34</td>\n",
       "      <td>No</td>\n",
       "      <td>No</td>\n",
       "      <td>Yes</td>\n",
       "      <td>0.0</td>\n",
       "      <td>0.0</td>\n",
       "      <td>No</td>\n",
       "      <td>Female</td>\n",
       "      <td>80 or older</td>\n",
       "      <td>White</td>\n",
       "      <td>No</td>\n",
       "      <td>Yes</td>\n",
       "      <td>Very good</td>\n",
       "      <td>7.0</td>\n",
       "      <td>No</td>\n",
       "      <td>No</td>\n",
       "      <td>No</td>\n",
       "    </tr>\n",
       "    <tr>\n",
       "      <th>2</th>\n",
       "      <td>No</td>\n",
       "      <td>26.58</td>\n",
       "      <td>Yes</td>\n",
       "      <td>No</td>\n",
       "      <td>No</td>\n",
       "      <td>20.0</td>\n",
       "      <td>30.0</td>\n",
       "      <td>No</td>\n",
       "      <td>Male</td>\n",
       "      <td>65-69</td>\n",
       "      <td>White</td>\n",
       "      <td>Yes</td>\n",
       "      <td>Yes</td>\n",
       "      <td>Fair</td>\n",
       "      <td>8.0</td>\n",
       "      <td>Yes</td>\n",
       "      <td>No</td>\n",
       "      <td>No</td>\n",
       "    </tr>\n",
       "    <tr>\n",
       "      <th>3</th>\n",
       "      <td>No</td>\n",
       "      <td>24.21</td>\n",
       "      <td>No</td>\n",
       "      <td>No</td>\n",
       "      <td>No</td>\n",
       "      <td>0.0</td>\n",
       "      <td>0.0</td>\n",
       "      <td>No</td>\n",
       "      <td>Female</td>\n",
       "      <td>75-79</td>\n",
       "      <td>White</td>\n",
       "      <td>No</td>\n",
       "      <td>No</td>\n",
       "      <td>Good</td>\n",
       "      <td>6.0</td>\n",
       "      <td>No</td>\n",
       "      <td>No</td>\n",
       "      <td>Yes</td>\n",
       "    </tr>\n",
       "    <tr>\n",
       "      <th>4</th>\n",
       "      <td>No</td>\n",
       "      <td>23.71</td>\n",
       "      <td>No</td>\n",
       "      <td>No</td>\n",
       "      <td>No</td>\n",
       "      <td>28.0</td>\n",
       "      <td>0.0</td>\n",
       "      <td>Yes</td>\n",
       "      <td>Female</td>\n",
       "      <td>40-44</td>\n",
       "      <td>White</td>\n",
       "      <td>No</td>\n",
       "      <td>Yes</td>\n",
       "      <td>Very good</td>\n",
       "      <td>8.0</td>\n",
       "      <td>No</td>\n",
       "      <td>No</td>\n",
       "      <td>No</td>\n",
       "    </tr>\n",
       "    <tr>\n",
       "      <th>...</th>\n",
       "      <td>...</td>\n",
       "      <td>...</td>\n",
       "      <td>...</td>\n",
       "      <td>...</td>\n",
       "      <td>...</td>\n",
       "      <td>...</td>\n",
       "      <td>...</td>\n",
       "      <td>...</td>\n",
       "      <td>...</td>\n",
       "      <td>...</td>\n",
       "      <td>...</td>\n",
       "      <td>...</td>\n",
       "      <td>...</td>\n",
       "      <td>...</td>\n",
       "      <td>...</td>\n",
       "      <td>...</td>\n",
       "      <td>...</td>\n",
       "      <td>...</td>\n",
       "    </tr>\n",
       "    <tr>\n",
       "      <th>319790</th>\n",
       "      <td>Yes</td>\n",
       "      <td>27.41</td>\n",
       "      <td>Yes</td>\n",
       "      <td>No</td>\n",
       "      <td>No</td>\n",
       "      <td>7.0</td>\n",
       "      <td>0.0</td>\n",
       "      <td>Yes</td>\n",
       "      <td>Male</td>\n",
       "      <td>60-64</td>\n",
       "      <td>Hispanic</td>\n",
       "      <td>Yes</td>\n",
       "      <td>No</td>\n",
       "      <td>Fair</td>\n",
       "      <td>6.0</td>\n",
       "      <td>Yes</td>\n",
       "      <td>No</td>\n",
       "      <td>No</td>\n",
       "    </tr>\n",
       "    <tr>\n",
       "      <th>319791</th>\n",
       "      <td>No</td>\n",
       "      <td>29.84</td>\n",
       "      <td>Yes</td>\n",
       "      <td>No</td>\n",
       "      <td>No</td>\n",
       "      <td>0.0</td>\n",
       "      <td>0.0</td>\n",
       "      <td>No</td>\n",
       "      <td>Male</td>\n",
       "      <td>35-39</td>\n",
       "      <td>Hispanic</td>\n",
       "      <td>No</td>\n",
       "      <td>Yes</td>\n",
       "      <td>Very good</td>\n",
       "      <td>5.0</td>\n",
       "      <td>Yes</td>\n",
       "      <td>No</td>\n",
       "      <td>No</td>\n",
       "    </tr>\n",
       "    <tr>\n",
       "      <th>319792</th>\n",
       "      <td>No</td>\n",
       "      <td>24.24</td>\n",
       "      <td>No</td>\n",
       "      <td>No</td>\n",
       "      <td>No</td>\n",
       "      <td>0.0</td>\n",
       "      <td>0.0</td>\n",
       "      <td>No</td>\n",
       "      <td>Female</td>\n",
       "      <td>45-49</td>\n",
       "      <td>Hispanic</td>\n",
       "      <td>No</td>\n",
       "      <td>Yes</td>\n",
       "      <td>Good</td>\n",
       "      <td>6.0</td>\n",
       "      <td>No</td>\n",
       "      <td>No</td>\n",
       "      <td>No</td>\n",
       "    </tr>\n",
       "    <tr>\n",
       "      <th>319793</th>\n",
       "      <td>No</td>\n",
       "      <td>32.81</td>\n",
       "      <td>No</td>\n",
       "      <td>No</td>\n",
       "      <td>No</td>\n",
       "      <td>0.0</td>\n",
       "      <td>0.0</td>\n",
       "      <td>No</td>\n",
       "      <td>Female</td>\n",
       "      <td>25-29</td>\n",
       "      <td>Hispanic</td>\n",
       "      <td>No</td>\n",
       "      <td>No</td>\n",
       "      <td>Good</td>\n",
       "      <td>12.0</td>\n",
       "      <td>No</td>\n",
       "      <td>No</td>\n",
       "      <td>No</td>\n",
       "    </tr>\n",
       "    <tr>\n",
       "      <th>319794</th>\n",
       "      <td>No</td>\n",
       "      <td>46.56</td>\n",
       "      <td>No</td>\n",
       "      <td>No</td>\n",
       "      <td>No</td>\n",
       "      <td>0.0</td>\n",
       "      <td>0.0</td>\n",
       "      <td>No</td>\n",
       "      <td>Female</td>\n",
       "      <td>80 or older</td>\n",
       "      <td>Hispanic</td>\n",
       "      <td>No</td>\n",
       "      <td>Yes</td>\n",
       "      <td>Good</td>\n",
       "      <td>8.0</td>\n",
       "      <td>No</td>\n",
       "      <td>No</td>\n",
       "      <td>No</td>\n",
       "    </tr>\n",
       "  </tbody>\n",
       "</table>\n",
       "<p>319795 rows × 18 columns</p>\n",
       "</div>"
      ],
      "text/plain": [
       "       HeartDisease    BMI Smoking AlcoholDrinking Stroke  PhysicalHealth  \\\n",
       "0                No  16.60     Yes              No     No             3.0   \n",
       "1                No  20.34      No              No    Yes             0.0   \n",
       "2                No  26.58     Yes              No     No            20.0   \n",
       "3                No  24.21      No              No     No             0.0   \n",
       "4                No  23.71      No              No     No            28.0   \n",
       "...             ...    ...     ...             ...    ...             ...   \n",
       "319790          Yes  27.41     Yes              No     No             7.0   \n",
       "319791           No  29.84     Yes              No     No             0.0   \n",
       "319792           No  24.24      No              No     No             0.0   \n",
       "319793           No  32.81      No              No     No             0.0   \n",
       "319794           No  46.56      No              No     No             0.0   \n",
       "\n",
       "        MentalHealth DiffWalking     Sex  AgeCategory      Race Diabetic  \\\n",
       "0               30.0          No  Female        55-59     White      Yes   \n",
       "1                0.0          No  Female  80 or older     White       No   \n",
       "2               30.0          No    Male        65-69     White      Yes   \n",
       "3                0.0          No  Female        75-79     White       No   \n",
       "4                0.0         Yes  Female        40-44     White       No   \n",
       "...              ...         ...     ...          ...       ...      ...   \n",
       "319790           0.0         Yes    Male        60-64  Hispanic      Yes   \n",
       "319791           0.0          No    Male        35-39  Hispanic       No   \n",
       "319792           0.0          No  Female        45-49  Hispanic       No   \n",
       "319793           0.0          No  Female        25-29  Hispanic       No   \n",
       "319794           0.0          No  Female  80 or older  Hispanic       No   \n",
       "\n",
       "       PhysicalActivity  GenHealth  SleepTime Asthma KidneyDisease SkinCancer  \n",
       "0                   Yes  Very good        5.0    Yes            No        Yes  \n",
       "1                   Yes  Very good        7.0     No            No         No  \n",
       "2                   Yes       Fair        8.0    Yes            No         No  \n",
       "3                    No       Good        6.0     No            No        Yes  \n",
       "4                   Yes  Very good        8.0     No            No         No  \n",
       "...                 ...        ...        ...    ...           ...        ...  \n",
       "319790               No       Fair        6.0    Yes            No         No  \n",
       "319791              Yes  Very good        5.0    Yes            No         No  \n",
       "319792              Yes       Good        6.0     No            No         No  \n",
       "319793               No       Good       12.0     No            No         No  \n",
       "319794              Yes       Good        8.0     No            No         No  \n",
       "\n",
       "[319795 rows x 18 columns]"
      ]
     },
     "execution_count": 3,
     "metadata": {},
     "output_type": "execute_result"
    }
   ],
   "source": [
    "df = pd.read_csv('heart_2020_cleaned.csv')\n",
    "df"
   ]
  },
  {
   "cell_type": "markdown",
   "id": "d300db17",
   "metadata": {},
   "source": [
    "## Opis danych"
   ]
  },
  {
   "cell_type": "markdown",
   "id": "0bf31781",
   "metadata": {},
   "source": [
    "* ***HeartDisease*** - Badani, którzy oświadczyli, że mieli/mają chorobę wieńcową serca lub zawał mięśnia sercowego\n",
    "* ***BMI*** - Body Mass Index\n",
    "* ***Smoking*** - Badani, którzy wypalili co najmniej 100 papierosów w życiu\n",
    "* ***AlcoholDrinking*** - Ludzie nadużywający alkoholu (mężczyźni, którzy piją co najmniej 14 drinków tygodniowo, kobiety - co najmniej 7 drinków tygodniowo)\n",
    "* ***Stroke*** - Badani, którzy mieli udar\n",
    "* ***PhysicalHealth*** - Przez ile dni w ciągu ostatnich 30 dni badany nie czuł się dobrze fizycznie\n",
    "* ***MentalHealth*** - Przez ile dni w ciągu ostatnich 30 dni badany nie czuł się dobrze psychicznie\n",
    "* ***DiffWalking*** - Czy badany ma trudności w chodzeniu lub we wchodzeniu po schodach\n",
    "* ***Sex*** - Płeć badanego\n",
    "* ***AgeCategory*** - Czternastostopniowa kategoria wiekowa badanego\n",
    "* ***Race*** - Podana przez badanego rasa/pochodzenie etniczne\n",
    "* ***Diabetic*** - Czy badany ma/miał cukrzycę?\n",
    "* ***PhysicalActivity*** - Badani, którzy zadeklarowali uprawianie ćwiczeń fizycznych różnych od ich pracy w ciągu ostatnich 30 dni\n",
    "* ***GenHealth*** - Poziom zdrowia zadeklarowany przez badanego\n",
    "* ***SleepTime*** - Średnia długość snu badanego\n",
    "* ***Asthma*** - Czy badany ma/miał astmę?\n",
    "* ***KidneyDisease*** - Z wyłączeniem kamieni nerkowych, zapalenia pęcherza, niemożności trzymania moczu, czy badany ma/miał jakiekolwiek problemy z nerkami?\n",
    "* ***SkinCancer*** - Czy badany ma/miał raka skóry?"
   ]
  },
  {
   "cell_type": "markdown",
   "id": "b37437a8",
   "metadata": {},
   "source": [
    "Mamy zatem następujące dane kategoryczne: ***HeartDisease, Smoking, AlcoholDrinking, Stroke, DiffWalking, Sex, Race, Diabetic, PhysicalActivity, GenHealth, Asthma, KidneyDisease, SkinCancer, AgeCategory***"
   ]
  },
  {
   "cell_type": "markdown",
   "id": "65342884",
   "metadata": {},
   "source": [
    "oraz ciągłe: ***BMI, PhysicalHealth, MentalHealth, SleepTime***"
   ]
  },
  {
   "cell_type": "markdown",
   "id": "a6626f7e",
   "metadata": {},
   "source": [
    "## Przetwarzanie danych"
   ]
  },
  {
   "cell_type": "markdown",
   "id": "f318968a",
   "metadata": {},
   "source": [
    "### Przyjrzyjmy się rozkładowi danych w kolumnach kategorycznych i przetwórzmy je na dane numeryczne"
   ]
  },
  {
   "cell_type": "markdown",
   "id": "c2dd3e74",
   "metadata": {},
   "source": [
    "***HeartDisease***:"
   ]
  },
  {
   "cell_type": "code",
   "execution_count": 4,
   "id": "34ddf9a0",
   "metadata": {},
   "outputs": [
    {
     "name": "stdout",
     "output_type": "stream",
     "text": [
      "No     292422\n",
      "Yes     27373\n",
      "Name: HeartDisease, dtype: int64\n"
     ]
    },
    {
     "data": {
      "image/png": "[encoded data removed]",
      "text/plain": [
       "<Figure size 432x288 with 1 Axes>"
      ]
     },
     "metadata": {
      "needs_background": "light"
     },
     "output_type": "display_data"
    }
   ],
   "source": [
    "print(df['HeartDisease'].value_counts())\n",
    "df['HeartDisease'].value_counts().plot(kind='bar')\n",
    "plt.show()\n",
    "\n",
    "df['HeartDisease'] = df['HeartDisease'].replace({ 'Yes': 1, 'No': 0})"
   ]
  },
  {
   "cell_type": "markdown",
   "id": "c0336844",
   "metadata": {},
   "source": [
    "***Smoking:***"
   ]
  },
  {
   "cell_type": "code",
   "execution_count": 5,
   "id": "7b4a29b6",
   "metadata": {},
   "outputs": [
    {
     "name": "stdout",
     "output_type": "stream",
     "text": [
      "No     187887\n",
      "Yes    131908\n",
      "Name: Smoking, dtype: int64\n"
     ]
    },
    {
     "data": {
      "image/png": "[encoded data removed]",
      "text/plain": [
       "<Figure size 432x288 with 1 Axes>"
      ]
     },
     "metadata": {
      "needs_background": "light"
     },
     "output_type": "display_data"
    }
   ],
   "source": [
    "print(df['Smoking'].value_counts())\n",
    "df['Smoking'].value_counts().plot(kind='bar')\n",
    "plt.show()\n",
    "\n",
    "df['Smoking'] = df['Smoking'].replace({ 'Yes': 1, 'No': 0})"
   ]
  },
  {
   "cell_type": "markdown",
   "id": "9db48ad5",
   "metadata": {},
   "source": [
    "***AlcoholDrinking:***"
   ]
  },
  {
   "cell_type": "code",
   "execution_count": 6,
   "id": "9e0eb7b3",
   "metadata": {},
   "outputs": [
    {
     "name": "stdout",
     "output_type": "stream",
     "text": [
      "No     298018\n",
      "Yes     21777\n",
      "Name: AlcoholDrinking, dtype: int64\n"
     ]
    },
    {
     "data": {
      "image/png": "[encoded data removed]",
      "text/plain": [
       "<Figure size 432x288 with 1 Axes>"
      ]
     },
     "metadata": {
      "needs_background": "light"
     },
     "output_type": "display_data"
    }
   ],
   "source": [
    "print(df['AlcoholDrinking'].value_counts())\n",
    "df['AlcoholDrinking'].value_counts().plot(kind='bar')\n",
    "plt.show()\n",
    "\n",
    "df['AlcoholDrinking'] = df['AlcoholDrinking'].replace({ 'Yes': 1, 'No': 0})"
   ]
  },
  {
   "cell_type": "markdown",
   "id": "1ec038d7",
   "metadata": {},
   "source": [
    "***Stroke:***"
   ]
  },
  {
   "cell_type": "code",
   "execution_count": 7,
   "id": "08e1dd30",
   "metadata": {},
   "outputs": [
    {
     "name": "stdout",
     "output_type": "stream",
     "text": [
      "No     307726\n",
      "Yes     12069\n",
      "Name: Stroke, dtype: int64\n"
     ]
    },
    {
     "data": {
      "image/png": "[encoded data removed]",
      "text/plain": [
       "<Figure size 432x288 with 1 Axes>"
      ]
     },
     "metadata": {
      "needs_background": "light"
     },
     "output_type": "display_data"
    }
   ],
   "source": [
    "print(df['Stroke'].value_counts())\n",
    "df['Stroke'].value_counts().plot(kind='bar')\n",
    "plt.show()\n",
    "\n",
    "df['Stroke'] = df['Stroke'].replace({ 'Yes': 1, 'No': 0})"
   ]
  },
  {
   "cell_type": "markdown",
   "id": "d8e6f5c8",
   "metadata": {},
   "source": [
    "***DiffWalking:***"
   ]
  },
  {
   "cell_type": "code",
   "execution_count": 8,
   "id": "05b955f1",
   "metadata": {},
   "outputs": [
    {
     "name": "stdout",
     "output_type": "stream",
     "text": [
      "No     275385\n",
      "Yes     44410\n",
      "Name: DiffWalking, dtype: int64\n"
     ]
    },
    {
     "data": {
      "image/png": "[encoded data removed]",
      "text/plain": [
       "<Figure size 432x288 with 1 Axes>"
      ]
     },
     "metadata": {
      "needs_background": "light"
     },
     "output_type": "display_data"
    }
   ],
   "source": [
    "print(df['DiffWalking'].value_counts())\n",
    "df['DiffWalking'].value_counts().plot(kind='bar')\n",
    "plt.show()\n",
    "\n",
    "df['DiffWalking'] = df['DiffWalking'].replace({ 'Yes': 1, 'No': 0})"
   ]
  },
  {
   "cell_type": "markdown",
   "id": "2440dbf9",
   "metadata": {},
   "source": [
    "***Sex:***"
   ]
  },
  {
   "cell_type": "code",
   "execution_count": 9,
   "id": "70824387",
   "metadata": {},
   "outputs": [
    {
     "name": "stdout",
     "output_type": "stream",
     "text": [
      "Female    167805\n",
      "Male      151990\n",
      "Name: Sex, dtype: int64\n"
     ]
    },
    {
     "data": {
      "image/png": "[encoded data removed]",
      "text/plain": [
       "<Figure size 432x288 with 1 Axes>"
      ]
     },
     "metadata": {
      "needs_background": "light"
     },
     "output_type": "display_data"
    }
   ],
   "source": [
    "print(df['Sex'].value_counts())\n",
    "df['Sex'].value_counts().plot(kind='bar')\n",
    "plt.show()\n",
    "\n",
    "df['Sex'] = df['Sex'].replace({ 'Male': 1, 'Female': 0})"
   ]
  },
  {
   "cell_type": "markdown",
   "id": "d9730a95",
   "metadata": {},
   "source": [
    "***Race:***"
   ]
  },
  {
   "cell_type": "code",
   "execution_count": 10,
   "id": "6877abf6",
   "metadata": {},
   "outputs": [
    {
     "name": "stdout",
     "output_type": "stream",
     "text": [
      "White                             245212\n",
      "Hispanic                           27446\n",
      "Black                              22939\n",
      "Other                              10928\n",
      "Asian                               8068\n",
      "American Indian/Alaskan Native      5202\n",
      "Name: Race, dtype: int64\n"
     ]
    },
    {
     "data": {
      "image/png": "[encoded data removed]",
      "text/plain": [
       "<Figure size 432x288 with 1 Axes>"
      ]
     },
     "metadata": {
      "needs_background": "light"
     },
     "output_type": "display_data"
    }
   ],
   "source": [
    "print(df['Race'].value_counts())\n",
    "df['Race'].value_counts().plot(kind='bar')\n",
    "plt.show()\n",
    "\n",
    "df = pd.get_dummies(df, columns=['Race'], prefix=['Race'])"
   ]
  },
  {
   "cell_type": "markdown",
   "id": "300ebd5d",
   "metadata": {},
   "source": [
    "***Diabetic:***"
   ]
  },
  {
   "cell_type": "code",
   "execution_count": 11,
   "id": "62e5303e",
   "metadata": {},
   "outputs": [
    {
     "name": "stdout",
     "output_type": "stream",
     "text": [
      "No                         269653\n",
      "Yes                         40802\n",
      "No, borderline diabetes      6781\n",
      "Yes (during pregnancy)       2559\n",
      "Name: Diabetic, dtype: int64\n"
     ]
    },
    {
     "data": {
      "image/png": "[encoded data removed]",
      "text/plain": [
       "<Figure size 432x288 with 1 Axes>"
      ]
     },
     "metadata": {
      "needs_background": "light"
     },
     "output_type": "display_data"
    }
   ],
   "source": [
    "print(df['Diabetic'].value_counts())\n",
    "df['Diabetic'].value_counts().plot(kind='bar')\n",
    "plt.show()\n",
    "\n",
    "df = pd.get_dummies(df, columns=['Diabetic'], prefix=['Diabetic'])"
   ]
  },
  {
   "cell_type": "markdown",
   "id": "a7613e34",
   "metadata": {},
   "source": [
    "***PhysicalActivity:***"
   ]
  },
  {
   "cell_type": "code",
   "execution_count": 12,
   "id": "d233021b",
   "metadata": {},
   "outputs": [
    {
     "name": "stdout",
     "output_type": "stream",
     "text": [
      "Yes    247957\n",
      "No      71838\n",
      "Name: PhysicalActivity, dtype: int64\n"
     ]
    },
    {
     "data": {
      "image/png": "[encoded data removed]",
      "text/plain": [
       "<Figure size 432x288 with 1 Axes>"
      ]
     },
     "metadata": {
      "needs_background": "light"
     },
     "output_type": "display_data"
    }
   ],
   "source": [
    "print(df['PhysicalActivity'].value_counts())\n",
    "df['PhysicalActivity'].value_counts().plot(kind='bar')\n",
    "plt.show()\n",
    "\n",
    "df['PhysicalActivity'] = df['PhysicalActivity'].replace({ 'Yes': 1, 'No': 0})"
   ]
  },
  {
   "cell_type": "markdown",
   "id": "b4dfbcfb",
   "metadata": {},
   "source": [
    "***GenHealth:***"
   ]
  },
  {
   "cell_type": "code",
   "execution_count": 13,
   "id": "7b8d2770",
   "metadata": {},
   "outputs": [
    {
     "name": "stdout",
     "output_type": "stream",
     "text": [
      "Very good    113858\n",
      "Good          93129\n",
      "Excellent     66842\n",
      "Fair          34677\n",
      "Poor          11289\n",
      "Name: GenHealth, dtype: int64\n"
     ]
    },
    {
     "data": {
      "image/png": "[encoded data removed]",
      "text/plain": [
       "<Figure size 432x288 with 1 Axes>"
      ]
     },
     "metadata": {
      "needs_background": "light"
     },
     "output_type": "display_data"
    }
   ],
   "source": [
    "print(df['GenHealth'].value_counts())\n",
    "df['GenHealth'].value_counts().plot(kind='bar')\n",
    "plt.show()\n",
    "\n",
    "df = pd.get_dummies(df, columns=['GenHealth'], prefix=['GenHealth'])"
   ]
  },
  {
   "cell_type": "markdown",
   "id": "514c32f1",
   "metadata": {},
   "source": [
    "***Asthma:***"
   ]
  },
  {
   "cell_type": "code",
   "execution_count": 14,
   "id": "3f51400f",
   "metadata": {},
   "outputs": [
    {
     "name": "stdout",
     "output_type": "stream",
     "text": [
      "No     276923\n",
      "Yes     42872\n",
      "Name: Asthma, dtype: int64\n"
     ]
    },
    {
     "data": {
      "image/png": "[encoded data removed]",
      "text/plain": [
       "<Figure size 432x288 with 1 Axes>"
      ]
     },
     "metadata": {
      "needs_background": "light"
     },
     "output_type": "display_data"
    }
   ],
   "source": [
    "print(df['Asthma'].value_counts())\n",
    "df['Asthma'].value_counts().plot(kind='bar')\n",
    "plt.show()\n",
    "\n",
    "df['Asthma'] = df['Asthma'].replace({ 'Yes': 1, 'No': 0})"
   ]
  },
  {
   "cell_type": "markdown",
   "id": "2c862ed8",
   "metadata": {},
   "source": [
    "***KidneyDisease:***"
   ]
  },
  {
   "cell_type": "code",
   "execution_count": 15,
   "id": "be31d046",
   "metadata": {},
   "outputs": [
    {
     "name": "stdout",
     "output_type": "stream",
     "text": [
      "No     308016\n",
      "Yes     11779\n",
      "Name: KidneyDisease, dtype: int64\n"
     ]
    },
    {
     "data": {
      "image/png": "[encoded data removed]",
      "text/plain": [
       "<Figure size 432x288 with 1 Axes>"
      ]
     },
     "metadata": {
      "needs_background": "light"
     },
     "output_type": "display_data"
    }
   ],
   "source": [
    "print(df['KidneyDisease'].value_counts())\n",
    "df['KidneyDisease'].value_counts().plot(kind='bar')\n",
    "plt.show()\n",
    "\n",
    "df['KidneyDisease'] = df['KidneyDisease'].replace({ 'Yes': 1, 'No': 0})"
   ]
  },
  {
   "cell_type": "markdown",
   "id": "d7e0af3f",
   "metadata": {},
   "source": [
    "***SkinCancer:***"
   ]
  },
  {
   "cell_type": "code",
   "execution_count": 16,
   "id": "0bc625c3",
   "metadata": {},
   "outputs": [
    {
     "name": "stdout",
     "output_type": "stream",
     "text": [
      "No     289976\n",
      "Yes     29819\n",
      "Name: SkinCancer, dtype: int64\n"
     ]
    },
    {
     "data": {
      "image/png": "[encoded data removed]",
      "text/plain": [
       "<Figure size 432x288 with 1 Axes>"
      ]
     },
     "metadata": {
      "needs_background": "light"
     },
     "output_type": "display_data"
    }
   ],
   "source": [
    "print(df['SkinCancer'].value_counts())\n",
    "df['SkinCancer'].value_counts().plot(kind='bar')\n",
    "plt.show()\n",
    "\n",
    "df['SkinCancer'] = df['SkinCancer'].replace({ 'Yes': 1, 'No': 0})"
   ]
  },
  {
   "cell_type": "markdown",
   "id": "c5eb1b17",
   "metadata": {},
   "source": [
    "***AgeCategory*** nie powinna być daną kategoryczną, więc zamieńmy każdą z kategorii na średni wiek tej kategorii:"
   ]
  },
  {
   "cell_type": "code",
   "execution_count": 17,
   "id": "52810ea7",
   "metadata": {},
   "outputs": [],
   "source": [
    "ageCategory_dict = {'55-59': 57, '80 or older': 80, '65-69': 67,\n",
    "                      '75-79': 77,'40-44': 42,'70-74': 72,'60-64': 62,\n",
    "                      '50-54': 52,'45-49': 47,'18-24': 21,'35-39': 37,\n",
    "                      '30-34': 32,'25-29': 27}\n",
    "\n",
    "df['AgeCategory'] = df['AgeCategory'].apply(lambda val: ageCategory_dict[val])\n",
    "df['AgeCategory'] = df['AgeCategory'].astype('float')"
   ]
  },
  {
   "cell_type": "markdown",
   "id": "1e4f8f26",
   "metadata": {},
   "source": [
    "Wszystkie powyższe kolumny wydają się być na podstawie opisów odpowiednie do nauki klasyfikatorów. Należy jednak zwrócić uwagę, że dane są niezbalansowane. Poradzimy sobie z tym używając metody oversamplingu."
   ]
  },
  {
   "cell_type": "markdown",
   "id": "bf1a1c9b",
   "metadata": {},
   "source": [
    "### Rozkład danych ciągłych:"
   ]
  },
  {
   "cell_type": "code",
   "execution_count": 18,
   "id": "ac7ede69",
   "metadata": {
    "scrolled": true
   },
   "outputs": [
    {
     "data": {
      "text/plain": [
       "Text(0.5, 1.0, 'Distribution of BMI Among People')"
      ]
     },
     "execution_count": 18,
     "metadata": {},
     "output_type": "execute_result"
    },
    {
     "data": {
      "image/png": "[encoded data removed]",
      "text/plain": [
       "<Figure size 864x432 with 1 Axes>"
      ]
     },
     "metadata": {
      "needs_background": "light"
     },
     "output_type": "display_data"
    }
   ],
   "source": [
    "plt.figure(figsize=(12,6))\n",
    "\n",
    "sns.histplot(data=df[df['HeartDisease']==1],x='BMI',kde=True,color='red')\n",
    "sns.histplot(data=df[df['HeartDisease']==0],x='BMI',kde=True,color='blue')\n",
    "plt.title('Distribution of BMI Among People')"
   ]
  },
  {
   "cell_type": "code",
   "execution_count": 19,
   "id": "a9b842ae",
   "metadata": {
    "scrolled": true
   },
   "outputs": [
    {
     "name": "stderr",
     "output_type": "stream",
     "text": [
      "C:\\ProgramData\\Anaconda3\\lib\\site-packages\\seaborn\\_decorators.py:36: FutureWarning: Pass the following variable as a keyword arg: x. From version 0.12, the only valid positional argument will be `data`, and passing other arguments without an explicit keyword will result in an error or misinterpretation.\n",
      "  warnings.warn(\n"
     ]
    },
    {
     "data": {
      "text/plain": [
       "Text(0.5, 1.0, 'Variation of Heart Disease amoung different MentalHealth')"
      ]
     },
     "execution_count": 19,
     "metadata": {},
     "output_type": "execute_result"
    },
    {
     "data": {
      "image/png": "[encoded data removed]",
      "text/plain": [
       "<Figure size 864x432 with 1 Axes>"
      ]
     },
     "metadata": {
      "needs_background": "light"
     },
     "output_type": "display_data"
    }
   ],
   "source": [
    "plt.figure(figsize=(12,6))\n",
    "sns.countplot(df['MentalHealth'],hue=df['HeartDisease'])\n",
    "plt.title('Variation of Heart Disease amoung different MentalHealth')"
   ]
  },
  {
   "cell_type": "code",
   "execution_count": 20,
   "id": "612eeb17",
   "metadata": {
    "scrolled": false
   },
   "outputs": [
    {
     "name": "stderr",
     "output_type": "stream",
     "text": [
      "C:\\ProgramData\\Anaconda3\\lib\\site-packages\\seaborn\\_decorators.py:36: FutureWarning: Pass the following variable as a keyword arg: x. From version 0.12, the only valid positional argument will be `data`, and passing other arguments without an explicit keyword will result in an error or misinterpretation.\n",
      "  warnings.warn(\n"
     ]
    },
    {
     "data": {
      "text/plain": [
       "Text(0.5, 1.0, 'Variation of Heart Disease amoung different PhysicalHealth')"
      ]
     },
     "execution_count": 20,
     "metadata": {},
     "output_type": "execute_result"
    },
    {
     "data": {
      "image/png": "[encoded data removed]",
      "text/plain": [
       "<Figure size 864x432 with 1 Axes>"
      ]
     },
     "metadata": {
      "needs_background": "light"
     },
     "output_type": "display_data"
    }
   ],
   "source": [
    "plt.figure(figsize=(12,6))\n",
    "sns.countplot(df['PhysicalHealth'],hue=df['HeartDisease'])\n",
    "plt.title('Variation of Heart Disease amoung different PhysicalHealth')"
   ]
  },
  {
   "cell_type": "markdown",
   "id": "afcac540",
   "metadata": {},
   "source": [
    "## Wykres korelacji zmiennych"
   ]
  },
  {
   "cell_type": "code",
   "execution_count": 21,
   "id": "0bbd5462",
   "metadata": {
    "scrolled": true
   },
   "outputs": [
    {
     "data": {
      "image/png": "[encoded data removed]",
      "text/plain": [
       "<Figure size 1800x1800 with 2 Axes>"
      ]
     },
     "metadata": {
      "needs_background": "light"
     },
     "output_type": "display_data"
    }
   ],
   "source": [
    "corr = df.corr()\n",
    "f, ax = plt.subplots(figsize=(25, 25))\n",
    "cmap = sns.diverging_palette(220, 10, as_cmap=True)\n",
    "\n",
    "sns.heatmap(corr, cmap=cmap, vmin=-1, vmax=1,\n",
    "            square=True, xticklabels=True, yticklabels=True,\n",
    "            linewidths=.5, cbar_kws={'shrink': .5}, ax=ax)\n",
    "plt.show()"
   ]
  },
  {
   "cell_type": "markdown",
   "id": "812f1380",
   "metadata": {},
   "source": [
    "Na podstawie wykresu korelacji można zaobserwować zgodnie z przewidywaniami, że\n",
    "* Poziom zdrowia generalnego, jest powiązany z trudnościami w chodzeniu, zdrowiem fizycznym oraz psychicznym, oraz z BMI\n",
    "* Cykrzyca jest powiązana z BMI\n",
    "* Rasy są ujemnie skolerowane wzajemnie"
   ]
  },
  {
   "cell_type": "markdown",
   "id": "47a76ea3",
   "metadata": {},
   "source": [
    "### Przygotowanie zbioru treningowego i walidacyjnego"
   ]
  },
  {
   "cell_type": "markdown",
   "id": "6b4bba24",
   "metadata": {},
   "source": [
    "Używając metody undersamplingu balansujemy zbiór danych i następnie dzielimy zbiór danych w następujący sposób: 80% dane treningowe, 20% dane testowe"
   ]
  },
  {
   "cell_type": "code",
   "execution_count": 22,
   "id": "f7848e85",
   "metadata": {},
   "outputs": [],
   "source": [
    "from imblearn.over_sampling import RandomOverSampler\n",
    "\n",
    "oversampler = RandomOverSampler(sampling_strategy=\"minority\")\n",
    "X = df.iloc[:,1:].values\n",
    "y = df.iloc[:,0].values\n",
    "\n",
    "X_over, y_over = oversampler.fit_resample(X, y)\n",
    "\n",
    "X_train, X_test, y_train, y_test = train_test_split(X_over, y_over, shuffle=True, test_size=0.2)"
   ]
  },
  {
   "cell_type": "markdown",
   "id": "fd8813e1",
   "metadata": {},
   "source": [
    "# Modele treningowe"
   ]
  },
  {
   "cell_type": "code",
   "execution_count": 23,
   "id": "9882aaef",
   "metadata": {},
   "outputs": [],
   "source": [
    "from sklearn.model_selection import GridSearchCV\n",
    "from sklearn import model_selection\n",
    "from sklearn.linear_model import LogisticRegression\n",
    "from sklearn.preprocessing import StandardScaler\n",
    "from sklearn.pipeline import Pipeline\n",
    "from sklearn.svm import SVC\n",
    "from sklearn.tree import DecisionTreeClassifier\n",
    "from sklearn.ensemble import RandomForestClassifier\n",
    "from sklearn.ensemble import BaggingClassifier\n",
    "from sklearn.ensemble import AdaBoostClassifier\n",
    "from sklearn.ensemble import GradientBoostingClassifier\n",
    "from sklearn.neighbors import KNeighborsClassifier\n",
    "from sklearn.neural_network import MLPClassifier\n",
    "\n",
    "kfold = model_selection.KFold(n_splits=8, random_state=None)\n",
    "\n",
    "import warnings\n",
    "warnings.filterwarnings('ignore')"
   ]
  },
  {
   "cell_type": "markdown",
   "id": "593ed7d4",
   "metadata": {},
   "source": [
    "## Regresja logistyczna"
   ]
  },
  {
   "cell_type": "code",
   "execution_count": 24,
   "id": "be581eff",
   "metadata": {},
   "outputs": [
    {
     "name": "stdout",
     "output_type": "stream",
     "text": [
      "{'classifier__C': 1, 'preprocessing': StandardScaler()}\n",
      "              precision    recall  f1-score   support\n",
      "\n",
      "           0       0.77      0.75      0.76     58243\n",
      "           1       0.76      0.78      0.77     58726\n",
      "\n",
      "    accuracy                           0.76    116969\n",
      "   macro avg       0.77      0.76      0.76    116969\n",
      "weighted avg       0.77      0.76      0.76    116969\n",
      "\n"
     ]
    }
   ],
   "source": [
    "pipe = Pipeline([('preprocessing', StandardScaler()), ('classifier', LogisticRegression())])\n",
    "\n",
    "param_grid = {\n",
    "            'preprocessing': [StandardScaler(), None],\n",
    "            'classifier__C': [0.0001, 0.001, 0.01, 0.1, 1, 10],\n",
    "}\n",
    "\n",
    "lr = GridSearchCV(pipe, param_grid, cv=kfold, return_train_score=True, scoring='f1')\n",
    "\n",
    "lr.fit(X_train, y_train)\n",
    "print(lr.best_params_)\n",
    "\n",
    "y_pred_lr = lr.predict(X_test)\n",
    "\n",
    "print(classification_report(y_test,y_pred_lr))"
   ]
  },
  {
   "cell_type": "markdown",
   "id": "19eb7d7a",
   "metadata": {},
   "source": [
    "## RandomForestClassifier"
   ]
  },
  {
   "cell_type": "code",
   "execution_count": 25,
   "id": "ce11b296",
   "metadata": {},
   "outputs": [
    {
     "name": "stdout",
     "output_type": "stream",
     "text": [
      "{'classifier__max_leaf_nodes': 50, 'classifier__n_estimators': 32, 'preprocessing': None}\n",
      "              precision    recall  f1-score   support\n",
      "\n",
      "           0       0.80      0.70      0.75     58243\n",
      "           1       0.74      0.83      0.78     58726\n",
      "\n",
      "    accuracy                           0.76    116969\n",
      "   macro avg       0.77      0.76      0.76    116969\n",
      "weighted avg       0.77      0.76      0.76    116969\n",
      "\n"
     ]
    }
   ],
   "source": [
    "pipe = Pipeline([('preprocessing', StandardScaler()), ('classifier', RandomForestClassifier(class_weight='balanced'))])\n",
    "\n",
    "param_grid = {\n",
    "            'preprocessing': [StandardScaler(), None],\n",
    "            'classifier__n_estimators': [4, 8, 16, 32, 64],\n",
    "            'classifier__max_leaf_nodes': [10, 20, 30, 40, 50],\n",
    "}\n",
    "\n",
    "rf = GridSearchCV(pipe, param_grid, cv=kfold, return_train_score=True, scoring='f1')\n",
    "\n",
    "rf.fit(X_train, y_train)\n",
    "print(rf.best_params_)\n",
    "\n",
    "y_pred_rf = rf.predict(X_test)\n",
    "\n",
    "print(classification_report(y_test,y_pred_rf))"
   ]
  },
  {
   "cell_type": "markdown",
   "id": "2cec1766",
   "metadata": {},
   "source": [
    "## K Nearest Neighbors"
   ]
  },
  {
   "cell_type": "code",
   "execution_count": null,
   "id": "0ff9821f",
   "metadata": {},
   "outputs": [],
   "source": [
    "pipe = Pipeline([('preprocessing', StandardScaler()), ('classifier', KNeighborsClassifier())])\n",
    "\n",
    "param_grid = {\n",
    "            'preprocessing': [StandardScaler(), None],\n",
    "            'classifier__n_neighbors': [1, 2, 4, 8],\n",
    "            'classifier__p': [1, 2, 4, 8],\n",
    "}\n",
    "\n",
    "knn = GridSearchCV(pipe, param_grid, cv=kfold, return_train_score=True, scoring='f1')\n",
    "\n",
    "knn.fit(X_train, y_train)\n",
    "print(knn.best_params_)\n",
    "\n",
    "y_pred_knn = knn.predict(X_test)\n",
    "\n",
    "print(classification_report(y_test,y_pred_knn))"
   ]
  },
  {
   "cell_type": "markdown",
   "id": "6f3ccbe2",
   "metadata": {},
   "source": [
    "## SVM LINEAR"
   ]
  },
  {
   "cell_type": "code",
   "execution_count": null,
   "id": "2f1bb4de",
   "metadata": {},
   "outputs": [],
   "source": [
    "pipe = Pipeline([('preprocessing', StandardScaler()), ('classifier', SVC(kernel='linear', class_weight='balanced'))])\n",
    "\n",
    "param_grid = {\n",
    "            'preprocessing': [StandardScaler(), None],\n",
    "            'classifier__C': [0.0001, 0.001, 0.01, 0.1, 1, 10],\n",
    "}\n",
    "\n",
    "svm_l = GridSearchCV(pipe, param_grid, cv=kfold, return_train_score=True, scoring='f1')\n",
    "\n",
    "print(svm_l.best_params_)\n",
    "\n",
    "svm_l.fit(X_train, y_train)\n",
    "\n",
    "y_pred_svm_l = svm_l.predict(X_test)\n",
    "\n",
    "print(classification_report(y_test,y_pred_svm_l))"
   ]
  },
  {
   "cell_type": "markdown",
   "id": "5458829c",
   "metadata": {},
   "source": [
    "## SVM RBF"
   ]
  },
  {
   "cell_type": "code",
   "execution_count": null,
   "id": "43b02d4b",
   "metadata": {},
   "outputs": [],
   "source": [
    "pipe = Pipeline([('preprocessing', StandardScaler()), ('classifier', SVC(kernel='rbf', class_weight='balanced'))])\n",
    "\n",
    "param_grid = {\n",
    "            'preprocessing': [StandardScaler(), None],\n",
    "            'classifier__C': [0.0001, 0.001, 0.01, 0.1, 1, 10],\n",
    "            'classifier__gamma': [0.001, 0.001, 0.01, 0.1, 1, 10],\n",
    "}\n",
    "\n",
    "svm_rbf = GridSearchCV(pipe, param_grid, cv=kfold, return_train_score=True, scoring='f1')\n",
    "\n",
    "print(svm_rbf.best_params_)\n",
    "\n",
    "svm_rbf.fit(X_train, y_train)\n",
    "\n",
    "y_pred_svm_l = svm_l.predict(X_test)\n",
    "\n",
    "print(classification_report(y_test,y_pred_svm_l))"
   ]
  },
  {
   "cell_type": "markdown",
   "id": "1115fdef",
   "metadata": {},
   "source": [
    "## AdaBoosting"
   ]
  },
  {
   "cell_type": "code",
   "execution_count": null,
   "id": "1e27f140",
   "metadata": {},
   "outputs": [],
   "source": [
    "pipe = Pipeline([('preprocessing', StandardScaler()), ('classifier', AdaBoostClassifier())])\n",
    "\n",
    "param_grid = {\n",
    "            'preprocessing': [StandardScaler(), None],\n",
    "            'classifier__n_estimators': [1, 2, 4, 8, 16],\n",
    "            'classifier__learning_rate': [0.00001, 0.0001, 0.001, 0.01],\n",
    "}\n",
    "\n",
    "ada_boost = GridSearchCV(pipe, param_grid, cv=kfold, return_train_score=True, scoring='f1')\n",
    "\n",
    "print(ada_boost.best_params_)\n",
    "\n",
    "ada_boost.fit(X_train, y_train)\n",
    "\n",
    "y_pred_ada_boost = ada_boost.predict(X_test)\n",
    "\n",
    "print(classification_report(y_test,y_pred_ada_boost))"
   ]
  },
  {
   "cell_type": "markdown",
   "id": "e89140a1",
   "metadata": {},
   "source": [
    "## MLPClassifier"
   ]
  },
  {
   "cell_type": "code",
   "execution_count": null,
   "id": "bf0c069f",
   "metadata": {},
   "outputs": [],
   "source": [
    "pipe = Pipeline([('preprocessing', StandardScaler()), ('classifier', MLPClassifier())])\n",
    "\n",
    "param_grid = {\n",
    "            'preprocessing': [StandardScaler(), None],\n",
    "            'classifier__hidden_layer_sizes': [(32, 16)],\n",
    "            'classifier__learning_rate_init': [0.001, 0.01, 0.1],\n",
    "            'classifier__max_iter': [256, 512],\n",
    "            'classifier__batch_size': [10, 20, 30],\n",
    "}\n",
    "\n",
    "mlp = GridSearchCV(pipe, param_grid, cv=kfold, return_train_score=True, scoring='f1')\n",
    "\n",
    "mlp.fit(X_train, y_train)\n",
    "\n",
    "print(mlp.best_params_)\n",
    "\n",
    "y_pred_mlp = mlp.predict(X_test)\n",
    "\n",
    "print(classification_report(y_test,y_pred_mlp))"
   ]
  }
 ],
 "metadata": {
  "kernelspec": {
   "display_name": "Python 3 (ipykernel)",
   "language": "python",
   "name": "python3"
  },
  "language_info": {
   "codemirror_mode": {
    "name": "ipython",
    "version": 3
   },
   "file_extension": ".py",
   "mimetype": "text/x-python",
   "name": "python",
   "nbconvert_exporter": "python",
   "pygments_lexer": "ipython3",
   "version": "3.9.12"
  }
 },
 "nbformat": 4,
 "nbformat_minor": 5
}
