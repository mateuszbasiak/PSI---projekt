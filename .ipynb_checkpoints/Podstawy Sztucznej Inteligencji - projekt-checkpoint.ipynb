{
 "cells": [
  {
   "cell_type": "markdown",
   "id": "65888739",
   "metadata": {},
   "source": [
    "# Przewidywanie chorób serca na podstawie innych czynników zdrowotnych"
   ]
  },
  {
   "cell_type": "markdown",
   "id": "52f6c688",
   "metadata": {},
   "source": [
    "Zadaniem projektu jest porównanie popularnych modeli klasyfikacji nauczonych na zbiorze: ***Personal Key Indicators of Heart Disease*** autorstwa Kamila Pytlaka https://www.kaggle.com/datasets/kamilpytlak/personal-key-indicators-of-heart-disease"
   ]
  },
  {
   "cell_type": "code",
   "execution_count": 85,
   "id": "137ea3bd",
   "metadata": {},
   "outputs": [],
   "source": [
    "from sklearn.linear_model import LinearRegression ,LogisticRegression\n",
    "from sklearn.tree import DecisionTreeClassifier\n",
    "from sklearn.neighbors import KNeighborsClassifier\n",
    "from sklearn.naive_bayes import GaussianNB\n",
    "from sklearn.ensemble import AdaBoostRegressor\n",
    "from sklearn.ensemble import RandomForestClassifier\n",
    "from sklearn.svm import SVC ,SVR\n",
    "from sklearn.metrics import *\n",
    "from sklearn.model_selection import GridSearchCV\n",
    "\n",
    "import os\n",
    "import numpy as np\n",
    "import pandas as pd\n",
    "from sklearn.preprocessing import LabelEncoder\n",
    "from sklearn.model_selection import train_test_split \n",
    "\n",
    "import matplotlib.pyplot as plt\n",
    "import seaborn as sns\n",
    "import plotly.express as px\n",
    "import plotly.graph_objects as go\n",
    "from plotly.subplots import make_subplots"
   ]
  },
  {
   "cell_type": "markdown",
   "id": "28b9e2a7",
   "metadata": {},
   "source": [
    "## Ładowanie danych"
   ]
  },
  {
   "cell_type": "code",
   "execution_count": 86,
   "id": "35fae54c",
   "metadata": {},
   "outputs": [
    {
     "data": {
      "text/html": [
       "<div>\n",
       "<style scoped>\n",
       "    .dataframe tbody tr th:only-of-type {\n",
       "        vertical-align: middle;\n",
       "    }\n",
       "\n",
       "    .dataframe tbody tr th {\n",
       "        vertical-align: top;\n",
       "    }\n",
       "\n",
       "    .dataframe thead th {\n",
       "        text-align: right;\n",
       "    }\n",
       "</style>\n",
       "<table border=\"1\" class=\"dataframe\">\n",
       "  <thead>\n",
       "    <tr style=\"text-align: right;\">\n",
       "      <th></th>\n",
       "      <th>HeartDisease</th>\n",
       "      <th>BMI</th>\n",
       "      <th>Smoking</th>\n",
       "      <th>AlcoholDrinking</th>\n",
       "      <th>Stroke</th>\n",
       "      <th>PhysicalHealth</th>\n",
       "      <th>MentalHealth</th>\n",
       "      <th>DiffWalking</th>\n",
       "      <th>Sex</th>\n",
       "      <th>AgeCategory</th>\n",
       "      <th>Race</th>\n",
       "      <th>Diabetic</th>\n",
       "      <th>PhysicalActivity</th>\n",
       "      <th>GenHealth</th>\n",
       "      <th>SleepTime</th>\n",
       "      <th>Asthma</th>\n",
       "      <th>KidneyDisease</th>\n",
       "      <th>SkinCancer</th>\n",
       "    </tr>\n",
       "  </thead>\n",
       "  <tbody>\n",
       "    <tr>\n",
       "      <th>0</th>\n",
       "      <td>No</td>\n",
       "      <td>16.60</td>\n",
       "      <td>Yes</td>\n",
       "      <td>No</td>\n",
       "      <td>No</td>\n",
       "      <td>3.0</td>\n",
       "      <td>30.0</td>\n",
       "      <td>No</td>\n",
       "      <td>Female</td>\n",
       "      <td>55-59</td>\n",
       "      <td>White</td>\n",
       "      <td>Yes</td>\n",
       "      <td>Yes</td>\n",
       "      <td>Very good</td>\n",
       "      <td>5.0</td>\n",
       "      <td>Yes</td>\n",
       "      <td>No</td>\n",
       "      <td>Yes</td>\n",
       "    </tr>\n",
       "    <tr>\n",
       "      <th>1</th>\n",
       "      <td>No</td>\n",
       "      <td>20.34</td>\n",
       "      <td>No</td>\n",
       "      <td>No</td>\n",
       "      <td>Yes</td>\n",
       "      <td>0.0</td>\n",
       "      <td>0.0</td>\n",
       "      <td>No</td>\n",
       "      <td>Female</td>\n",
       "      <td>80 or older</td>\n",
       "      <td>White</td>\n",
       "      <td>No</td>\n",
       "      <td>Yes</td>\n",
       "      <td>Very good</td>\n",
       "      <td>7.0</td>\n",
       "      <td>No</td>\n",
       "      <td>No</td>\n",
       "      <td>No</td>\n",
       "    </tr>\n",
       "    <tr>\n",
       "      <th>2</th>\n",
       "      <td>No</td>\n",
       "      <td>26.58</td>\n",
       "      <td>Yes</td>\n",
       "      <td>No</td>\n",
       "      <td>No</td>\n",
       "      <td>20.0</td>\n",
       "      <td>30.0</td>\n",
       "      <td>No</td>\n",
       "      <td>Male</td>\n",
       "      <td>65-69</td>\n",
       "      <td>White</td>\n",
       "      <td>Yes</td>\n",
       "      <td>Yes</td>\n",
       "      <td>Fair</td>\n",
       "      <td>8.0</td>\n",
       "      <td>Yes</td>\n",
       "      <td>No</td>\n",
       "      <td>No</td>\n",
       "    </tr>\n",
       "    <tr>\n",
       "      <th>3</th>\n",
       "      <td>No</td>\n",
       "      <td>24.21</td>\n",
       "      <td>No</td>\n",
       "      <td>No</td>\n",
       "      <td>No</td>\n",
       "      <td>0.0</td>\n",
       "      <td>0.0</td>\n",
       "      <td>No</td>\n",
       "      <td>Female</td>\n",
       "      <td>75-79</td>\n",
       "      <td>White</td>\n",
       "      <td>No</td>\n",
       "      <td>No</td>\n",
       "      <td>Good</td>\n",
       "      <td>6.0</td>\n",
       "      <td>No</td>\n",
       "      <td>No</td>\n",
       "      <td>Yes</td>\n",
       "    </tr>\n",
       "    <tr>\n",
       "      <th>4</th>\n",
       "      <td>No</td>\n",
       "      <td>23.71</td>\n",
       "      <td>No</td>\n",
       "      <td>No</td>\n",
       "      <td>No</td>\n",
       "      <td>28.0</td>\n",
       "      <td>0.0</td>\n",
       "      <td>Yes</td>\n",
       "      <td>Female</td>\n",
       "      <td>40-44</td>\n",
       "      <td>White</td>\n",
       "      <td>No</td>\n",
       "      <td>Yes</td>\n",
       "      <td>Very good</td>\n",
       "      <td>8.0</td>\n",
       "      <td>No</td>\n",
       "      <td>No</td>\n",
       "      <td>No</td>\n",
       "    </tr>\n",
       "    <tr>\n",
       "      <th>...</th>\n",
       "      <td>...</td>\n",
       "      <td>...</td>\n",
       "      <td>...</td>\n",
       "      <td>...</td>\n",
       "      <td>...</td>\n",
       "      <td>...</td>\n",
       "      <td>...</td>\n",
       "      <td>...</td>\n",
       "      <td>...</td>\n",
       "      <td>...</td>\n",
       "      <td>...</td>\n",
       "      <td>...</td>\n",
       "      <td>...</td>\n",
       "      <td>...</td>\n",
       "      <td>...</td>\n",
       "      <td>...</td>\n",
       "      <td>...</td>\n",
       "      <td>...</td>\n",
       "    </tr>\n",
       "    <tr>\n",
       "      <th>319790</th>\n",
       "      <td>Yes</td>\n",
       "      <td>27.41</td>\n",
       "      <td>Yes</td>\n",
       "      <td>No</td>\n",
       "      <td>No</td>\n",
       "      <td>7.0</td>\n",
       "      <td>0.0</td>\n",
       "      <td>Yes</td>\n",
       "      <td>Male</td>\n",
       "      <td>60-64</td>\n",
       "      <td>Hispanic</td>\n",
       "      <td>Yes</td>\n",
       "      <td>No</td>\n",
       "      <td>Fair</td>\n",
       "      <td>6.0</td>\n",
       "      <td>Yes</td>\n",
       "      <td>No</td>\n",
       "      <td>No</td>\n",
       "    </tr>\n",
       "    <tr>\n",
       "      <th>319791</th>\n",
       "      <td>No</td>\n",
       "      <td>29.84</td>\n",
       "      <td>Yes</td>\n",
       "      <td>No</td>\n",
       "      <td>No</td>\n",
       "      <td>0.0</td>\n",
       "      <td>0.0</td>\n",
       "      <td>No</td>\n",
       "      <td>Male</td>\n",
       "      <td>35-39</td>\n",
       "      <td>Hispanic</td>\n",
       "      <td>No</td>\n",
       "      <td>Yes</td>\n",
       "      <td>Very good</td>\n",
       "      <td>5.0</td>\n",
       "      <td>Yes</td>\n",
       "      <td>No</td>\n",
       "      <td>No</td>\n",
       "    </tr>\n",
       "    <tr>\n",
       "      <th>319792</th>\n",
       "      <td>No</td>\n",
       "      <td>24.24</td>\n",
       "      <td>No</td>\n",
       "      <td>No</td>\n",
       "      <td>No</td>\n",
       "      <td>0.0</td>\n",
       "      <td>0.0</td>\n",
       "      <td>No</td>\n",
       "      <td>Female</td>\n",
       "      <td>45-49</td>\n",
       "      <td>Hispanic</td>\n",
       "      <td>No</td>\n",
       "      <td>Yes</td>\n",
       "      <td>Good</td>\n",
       "      <td>6.0</td>\n",
       "      <td>No</td>\n",
       "      <td>No</td>\n",
       "      <td>No</td>\n",
       "    </tr>\n",
       "    <tr>\n",
       "      <th>319793</th>\n",
       "      <td>No</td>\n",
       "      <td>32.81</td>\n",
       "      <td>No</td>\n",
       "      <td>No</td>\n",
       "      <td>No</td>\n",
       "      <td>0.0</td>\n",
       "      <td>0.0</td>\n",
       "      <td>No</td>\n",
       "      <td>Female</td>\n",
       "      <td>25-29</td>\n",
       "      <td>Hispanic</td>\n",
       "      <td>No</td>\n",
       "      <td>No</td>\n",
       "      <td>Good</td>\n",
       "      <td>12.0</td>\n",
       "      <td>No</td>\n",
       "      <td>No</td>\n",
       "      <td>No</td>\n",
       "    </tr>\n",
       "    <tr>\n",
       "      <th>319794</th>\n",
       "      <td>No</td>\n",
       "      <td>46.56</td>\n",
       "      <td>No</td>\n",
       "      <td>No</td>\n",
       "      <td>No</td>\n",
       "      <td>0.0</td>\n",
       "      <td>0.0</td>\n",
       "      <td>No</td>\n",
       "      <td>Female</td>\n",
       "      <td>80 or older</td>\n",
       "      <td>Hispanic</td>\n",
       "      <td>No</td>\n",
       "      <td>Yes</td>\n",
       "      <td>Good</td>\n",
       "      <td>8.0</td>\n",
       "      <td>No</td>\n",
       "      <td>No</td>\n",
       "      <td>No</td>\n",
       "    </tr>\n",
       "  </tbody>\n",
       "</table>\n",
       "<p>319795 rows × 18 columns</p>\n",
       "</div>"
      ],
      "text/plain": [
       "       HeartDisease    BMI Smoking AlcoholDrinking Stroke  PhysicalHealth  \\\n",
       "0                No  16.60     Yes              No     No             3.0   \n",
       "1                No  20.34      No              No    Yes             0.0   \n",
       "2                No  26.58     Yes              No     No            20.0   \n",
       "3                No  24.21      No              No     No             0.0   \n",
       "4                No  23.71      No              No     No            28.0   \n",
       "...             ...    ...     ...             ...    ...             ...   \n",
       "319790          Yes  27.41     Yes              No     No             7.0   \n",
       "319791           No  29.84     Yes              No     No             0.0   \n",
       "319792           No  24.24      No              No     No             0.0   \n",
       "319793           No  32.81      No              No     No             0.0   \n",
       "319794           No  46.56      No              No     No             0.0   \n",
       "\n",
       "        MentalHealth DiffWalking     Sex  AgeCategory      Race Diabetic  \\\n",
       "0               30.0          No  Female        55-59     White      Yes   \n",
       "1                0.0          No  Female  80 or older     White       No   \n",
       "2               30.0          No    Male        65-69     White      Yes   \n",
       "3                0.0          No  Female        75-79     White       No   \n",
       "4                0.0         Yes  Female        40-44     White       No   \n",
       "...              ...         ...     ...          ...       ...      ...   \n",
       "319790           0.0         Yes    Male        60-64  Hispanic      Yes   \n",
       "319791           0.0          No    Male        35-39  Hispanic       No   \n",
       "319792           0.0          No  Female        45-49  Hispanic       No   \n",
       "319793           0.0          No  Female        25-29  Hispanic       No   \n",
       "319794           0.0          No  Female  80 or older  Hispanic       No   \n",
       "\n",
       "       PhysicalActivity  GenHealth  SleepTime Asthma KidneyDisease SkinCancer  \n",
       "0                   Yes  Very good        5.0    Yes            No        Yes  \n",
       "1                   Yes  Very good        7.0     No            No         No  \n",
       "2                   Yes       Fair        8.0    Yes            No         No  \n",
       "3                    No       Good        6.0     No            No        Yes  \n",
       "4                   Yes  Very good        8.0     No            No         No  \n",
       "...                 ...        ...        ...    ...           ...        ...  \n",
       "319790               No       Fair        6.0    Yes            No         No  \n",
       "319791              Yes  Very good        5.0    Yes            No         No  \n",
       "319792              Yes       Good        6.0     No            No         No  \n",
       "319793               No       Good       12.0     No            No         No  \n",
       "319794              Yes       Good        8.0     No            No         No  \n",
       "\n",
       "[319795 rows x 18 columns]"
      ]
     },
     "execution_count": 86,
     "metadata": {},
     "output_type": "execute_result"
    }
   ],
   "source": [
    "df = pd.read_csv('heart_2020_cleaned.csv')\n",
    "df"
   ]
  },
  {
   "cell_type": "markdown",
   "id": "d300db17",
   "metadata": {},
   "source": [
    "## Opis danych"
   ]
  },
  {
   "cell_type": "markdown",
   "id": "0bf31781",
   "metadata": {},
   "source": [
    "* ***HeartDisease*** - Badani, którzy oświadczyli, że mieli/mają chorobę wieńcową serca lub zawał mięśnia sercowego\n",
    "* ***BMI*** - Body Mass Index\n",
    "* ***Smoking*** - Badani, którzy wypalili co najmniej 100 papierosów w życiu\n",
    "* ***AlcoholDrinking*** - Ludzie nadużywający alkoholu (mężczyźni, którzy piją co najmniej 14 drinków tygodniowo, kobiety - co najmniej 7 drinków tygodniowo)\n",
    "* ***Stroke*** - Badani, którzy mieli udar\n",
    "* ***PhysicalHealth*** - Przez ile dni w ciągu ostatnich 30 dni badany nie czuł się dobrze fizycznie\n",
    "* ***MentalHealth*** - Przez ile dni w ciągu ostatnich 30 dni badany nie czuł się dobrze psychicznie\n",
    "* ***DiffWalking*** - Czy badany ma trudności w chodzeniu lub we wchodzeniu po schodach\n",
    "* ***Sex*** - Płeć badanego\n",
    "* ***AgeCategory*** - Czternastostopniowa kategoria wiekowa badanego\n",
    "* ***Race*** - Podana przez badanego rasa/pochodzenie etniczne\n",
    "* ***Diabetic*** - Czy badany ma/miał cukrzycę?\n",
    "* ***PhysicalActivity*** - Badani, którzy zadeklarowali uprawianie ćwiczeń fizycznych różnych od ich pracy w ciągu ostatnich 30 dni\n",
    "* ***GenHealth*** - Poziom zdrowia zadeklarowany przez badanego\n",
    "* ***SleepTime*** - Średnia długość snu badanego\n",
    "* ***Asthma*** - Czy badany ma/miał astmę?\n",
    "* ***KidneyDisease*** - Z wyłączeniem kamieni nerkowych, zapalenia pęcherza, niemożności trzymania moczu, czy badany ma/miał jakiekolwiek problemy z nerkami?\n",
    "* ***SkinCancer*** - Czy badany ma/miał raka skóry?"
   ]
  },
  {
   "cell_type": "markdown",
   "id": "b37437a8",
   "metadata": {},
   "source": [
    "Mamy zatem następujące dane kategoryczne: ***HeartDisease, Smoking, AlcoholDrinking, Stroke, DiffWalking, Sex, Race, Diabetic, PhysicalActivity, GenHealth, Asthma, KidneyDisease, SkinCancer, AgeCategory***"
   ]
  },
  {
   "cell_type": "markdown",
   "id": "65342884",
   "metadata": {},
   "source": [
    "oraz ciągłe: ***BMI, PhysicalHealth, MentalHealth, SleepTime***"
   ]
  },
  {
   "cell_type": "markdown",
   "id": "a6626f7e",
   "metadata": {},
   "source": [
    "## Przetwarzanie danych"
   ]
  },
  {
   "cell_type": "markdown",
   "id": "f318968a",
   "metadata": {},
   "source": [
    "### Przyjrzyjmy się rozkładowi danych w kolumnach kategorycznych i przetwórzmy je na dane numeryczne"
   ]
  },
  {
   "cell_type": "markdown",
   "id": "c2dd3e74",
   "metadata": {},
   "source": [
    "***HeartDisease***:"
   ]
  },
  {
   "cell_type": "code",
   "execution_count": 87,
   "id": "34ddf9a0",
   "metadata": {},
   "outputs": [
    {
     "name": "stdout",
     "output_type": "stream",
     "text": [
      "No     292422\n",
      "Yes     27373\n",
      "Name: HeartDisease, dtype: int64\n"
     ]
    },
    {
     "data": {
      "image/png": "[encoded data removed]",
      "text/plain": [
       "<Figure size 1152x576 with 1 Axes>"
      ]
     },
     "metadata": {},
     "output_type": "display_data"
    }
   ],
   "source": [
    "print(df['HeartDisease'].value_counts())\n",
    "df['HeartDisease'].value_counts().plot(kind='bar')\n",
    "plt.show()\n",
    "\n",
    "df['HeartDisease'] = df['HeartDisease'].replace({ 'Yes': 1, 'No': 0})"
   ]
  },
  {
   "cell_type": "markdown",
   "id": "c0336844",
   "metadata": {},
   "source": [
    "***Smoking:***"
   ]
  },
  {
   "cell_type": "code",
   "execution_count": 88,
   "id": "7b4a29b6",
   "metadata": {},
   "outputs": [
    {
     "name": "stdout",
     "output_type": "stream",
     "text": [
      "No     187887\n",
      "Yes    131908\n",
      "Name: Smoking, dtype: int64\n"
     ]
    },
    {
     "data": {
      "image/png": "[encoded data removed]",
      "text/plain": [
       "<Figure size 1152x576 with 1 Axes>"
      ]
     },
     "metadata": {},
     "output_type": "display_data"
    }
   ],
   "source": [
    "print(df['Smoking'].value_counts())\n",
    "df['Smoking'].value_counts().plot(kind='bar')\n",
    "plt.show()\n",
    "\n",
    "df['Smoking'] = df['Smoking'].replace({ 'Yes': 1, 'No': 0})"
   ]
  },
  {
   "cell_type": "markdown",
   "id": "9db48ad5",
   "metadata": {},
   "source": [
    "***AlcoholDrinking:***"
   ]
  },
  {
   "cell_type": "code",
   "execution_count": 89,
   "id": "9e0eb7b3",
   "metadata": {},
   "outputs": [
    {
     "name": "stdout",
     "output_type": "stream",
     "text": [
      "No     298018\n",
      "Yes     21777\n",
      "Name: AlcoholDrinking, dtype: int64\n"
     ]
    },
    {
     "data": {
      "image/png": "[encoded data removed]",
      "text/plain": [
       "<Figure size 1152x576 with 1 Axes>"
      ]
     },
     "metadata": {},
     "output_type": "display_data"
    }
   ],
   "source": [
    "print(df['AlcoholDrinking'].value_counts())\n",
    "df['AlcoholDrinking'].value_counts().plot(kind='bar')\n",
    "plt.show()\n",
    "\n",
    "df['AlcoholDrinking'] = df['AlcoholDrinking'].replace({ 'Yes': 1, 'No': 0})"
   ]
  },
  {
   "cell_type": "markdown",
   "id": "1ec038d7",
   "metadata": {},
   "source": [
    "***Stroke:***"
   ]
  },
  {
   "cell_type": "code",
   "execution_count": 90,
   "id": "08e1dd30",
   "metadata": {},
   "outputs": [
    {
     "name": "stdout",
     "output_type": "stream",
     "text": [
      "No     307726\n",
      "Yes     12069\n",
      "Name: Stroke, dtype: int64\n"
     ]
    },
    {
     "data": {
      "image/png": "[encoded data removed]",
      "text/plain": [
       "<Figure size 1152x576 with 1 Axes>"
      ]
     },
     "metadata": {},
     "output_type": "display_data"
    }
   ],
   "source": [
    "print(df['Stroke'].value_counts())\n",
    "df['Stroke'].value_counts().plot(kind='bar')\n",
    "plt.show()\n",
    "\n",
    "df['Stroke'] = df['Stroke'].replace({ 'Yes': 1, 'No': 0})"
   ]
  },
  {
   "cell_type": "markdown",
   "id": "d8e6f5c8",
   "metadata": {},
   "source": [
    "***DiffWalking:***"
   ]
  },
  {
   "cell_type": "code",
   "execution_count": 91,
   "id": "05b955f1",
   "metadata": {},
   "outputs": [
    {
     "name": "stdout",
     "output_type": "stream",
     "text": [
      "No     275385\n",
      "Yes     44410\n",
      "Name: DiffWalking, dtype: int64\n"
     ]
    },
    {
     "data": {
      "image/png": "[encoded data removed]",
      "text/plain": [
       "<Figure size 1152x576 with 1 Axes>"
      ]
     },
     "metadata": {},
     "output_type": "display_data"
    }
   ],
   "source": [
    "print(df['DiffWalking'].value_counts())\n",
    "df['DiffWalking'].value_counts().plot(kind='bar')\n",
    "plt.show()\n",
    "\n",
    "df['DiffWalking'] = df['DiffWalking'].replace({ 'Yes': 1, 'No': 0})"
   ]
  },
  {
   "cell_type": "markdown",
   "id": "2440dbf9",
   "metadata": {},
   "source": [
    "***Sex:***"
   ]
  },
  {
   "cell_type": "code",
   "execution_count": 92,
   "id": "70824387",
   "metadata": {},
   "outputs": [
    {
     "name": "stdout",
     "output_type": "stream",
     "text": [
      "Female    167805\n",
      "Male      151990\n",
      "Name: Sex, dtype: int64\n"
     ]
    },
    {
     "data": {
      "image/png": "[encoded data removed]",
      "text/plain": [
       "<Figure size 1152x576 with 1 Axes>"
      ]
     },
     "metadata": {},
     "output_type": "display_data"
    }
   ],
   "source": [
    "print(df['Sex'].value_counts())\n",
    "df['Sex'].value_counts().plot(kind='bar')\n",
    "plt.show()\n",
    "\n",
    "df['Sex'] = df['Sex'].replace({ 'Male': 1, 'Female': 0})"
   ]
  },
  {
   "cell_type": "markdown",
   "id": "d9730a95",
   "metadata": {},
   "source": [
    "***Race:***"
   ]
  },
  {
   "cell_type": "code",
   "execution_count": 93,
   "id": "6877abf6",
   "metadata": {},
   "outputs": [
    {
     "name": "stdout",
     "output_type": "stream",
     "text": [
      "White                             245212\n",
      "Hispanic                           27446\n",
      "Black                              22939\n",
      "Other                              10928\n",
      "Asian                               8068\n",
      "American Indian/Alaskan Native      5202\n",
      "Name: Race, dtype: int64\n"
     ]
    },
    {
     "data": {
      "image/png": "[encoded data removed]",
      "text/plain": [
       "<Figure size 1152x576 with 1 Axes>"
      ]
     },
     "metadata": {},
     "output_type": "display_data"
    }
   ],
   "source": [
    "print(df['Race'].value_counts())\n",
    "df['Race'].value_counts().plot(kind='bar')\n",
    "plt.show()\n",
    "\n",
    "df = pd.get_dummies(df, columns=['Race'], prefix=['Race'])"
   ]
  },
  {
   "cell_type": "markdown",
   "id": "300ebd5d",
   "metadata": {},
   "source": [
    "***Diabetic:***"
   ]
  },
  {
   "cell_type": "code",
   "execution_count": 94,
   "id": "62e5303e",
   "metadata": {},
   "outputs": [
    {
     "name": "stdout",
     "output_type": "stream",
     "text": [
      "No                         269653\n",
      "Yes                         40802\n",
      "No, borderline diabetes      6781\n",
      "Yes (during pregnancy)       2559\n",
      "Name: Diabetic, dtype: int64\n"
     ]
    },
    {
     "data": {
      "image/png": "[encoded data removed]",
      "text/plain": [
       "<Figure size 1152x576 with 1 Axes>"
      ]
     },
     "metadata": {},
     "output_type": "display_data"
    }
   ],
   "source": [
    "print(df['Diabetic'].value_counts())\n",
    "df['Diabetic'].value_counts().plot(kind='bar')\n",
    "plt.show()\n",
    "\n",
    "df = pd.get_dummies(df, columns=['Diabetic'], prefix=['Diabetic'])"
   ]
  },
  {
   "cell_type": "markdown",
   "id": "a7613e34",
   "metadata": {},
   "source": [
    "***PhysicalActivity:***"
   ]
  },
  {
   "cell_type": "code",
   "execution_count": 95,
   "id": "d233021b",
   "metadata": {},
   "outputs": [
    {
     "name": "stdout",
     "output_type": "stream",
     "text": [
      "Yes    247957\n",
      "No      71838\n",
      "Name: PhysicalActivity, dtype: int64\n"
     ]
    },
    {
     "data": {
      "image/png": "[encoded data removed]",
      "text/plain": [
       "<Figure size 1152x576 with 1 Axes>"
      ]
     },
     "metadata": {},
     "output_type": "display_data"
    }
   ],
   "source": [
    "print(df['PhysicalActivity'].value_counts())\n",
    "df['PhysicalActivity'].value_counts().plot(kind='bar')\n",
    "plt.show()\n",
    "\n",
    "df['PhysicalActivity'] = df['PhysicalActivity'].replace({ 'Yes': 1, 'No': 0})"
   ]
  },
  {
   "cell_type": "markdown",
   "id": "b4dfbcfb",
   "metadata": {},
   "source": [
    "***GenHealth:***"
   ]
  },
  {
   "cell_type": "code",
   "execution_count": 96,
   "id": "7b8d2770",
   "metadata": {},
   "outputs": [
    {
     "name": "stdout",
     "output_type": "stream",
     "text": [
      "Very good    113858\n",
      "Good          93129\n",
      "Excellent     66842\n",
      "Fair          34677\n",
      "Poor          11289\n",
      "Name: GenHealth, dtype: int64\n"
     ]
    },
    {
     "data": {
      "image/png": "[encoded data removed]",
      "text/plain": [
       "<Figure size 1152x576 with 1 Axes>"
      ]
     },
     "metadata": {},
     "output_type": "display_data"
    }
   ],
   "source": [
    "print(df['GenHealth'].value_counts())\n",
    "df['GenHealth'].value_counts().plot(kind='bar')\n",
    "plt.show()\n",
    "\n",
    "df = pd.get_dummies(df, columns=['GenHealth'], prefix=['GenHealth'])"
   ]
  },
  {
   "cell_type": "markdown",
   "id": "514c32f1",
   "metadata": {},
   "source": [
    "***Asthma:***"
   ]
  },
  {
   "cell_type": "code",
   "execution_count": 97,
   "id": "3f51400f",
   "metadata": {},
   "outputs": [
    {
     "name": "stdout",
     "output_type": "stream",
     "text": [
      "No     276923\n",
      "Yes     42872\n",
      "Name: Asthma, dtype: int64\n"
     ]
    },
    {
     "data": {
      "image/png": "[encoded data removed]",
      "text/plain": [
       "<Figure size 1152x576 with 1 Axes>"
      ]
     },
     "metadata": {},
     "output_type": "display_data"
    }
   ],
   "source": [
    "print(df['Asthma'].value_counts())\n",
    "df['Asthma'].value_counts().plot(kind='bar')\n",
    "plt.show()\n",
    "\n",
    "df['Asthma'] = df['Asthma'].replace({ 'Yes': 1, 'No': 0})"
   ]
  },
  {
   "cell_type": "markdown",
   "id": "2c862ed8",
   "metadata": {},
   "source": [
    "***KidneyDisease:***"
   ]
  },
  {
   "cell_type": "code",
   "execution_count": 98,
   "id": "be31d046",
   "metadata": {},
   "outputs": [
    {
     "name": "stdout",
     "output_type": "stream",
     "text": [
      "No     308016\n",
      "Yes     11779\n",
      "Name: KidneyDisease, dtype: int64\n"
     ]
    },
    {
     "data": {
      "image/png": "[encoded data removed]",
      "text/plain": [
       "<Figure size 1152x576 with 1 Axes>"
      ]
     },
     "metadata": {},
     "output_type": "display_data"
    }
   ],
   "source": [
    "print(df['KidneyDisease'].value_counts())\n",
    "df['KidneyDisease'].value_counts().plot(kind='bar')\n",
    "plt.show()\n",
    "\n",
    "df['KidneyDisease'] = df['KidneyDisease'].replace({ 'Yes': 1, 'No': 0})"
   ]
  },
  {
   "cell_type": "markdown",
   "id": "d7e0af3f",
   "metadata": {},
   "source": [
    "***SkinCancer:***"
   ]
  },
  {
   "cell_type": "code",
   "execution_count": 99,
   "id": "0bc625c3",
   "metadata": {},
   "outputs": [
    {
     "name": "stdout",
     "output_type": "stream",
     "text": [
      "No     289976\n",
      "Yes     29819\n",
      "Name: SkinCancer, dtype: int64\n"
     ]
    },
    {
     "data": {
      "image/png": "[encoded data removed]",
      "text/plain": [
       "<Figure size 1152x576 with 1 Axes>"
      ]
     },
     "metadata": {},
     "output_type": "display_data"
    }
   ],
   "source": [
    "print(df['SkinCancer'].value_counts())\n",
    "df['SkinCancer'].value_counts().plot(kind='bar')\n",
    "plt.show()\n",
    "\n",
    "df['SkinCancer'] = df['SkinCancer'].replace({ 'Yes': 1, 'No': 0})"
   ]
  },
  {
   "cell_type": "markdown",
   "id": "c5eb1b17",
   "metadata": {},
   "source": [
    "***AgeCategory*** nie powinna być daną kategoryczną, więc zamieńmy każdą z kategorii na średni wiek tej kategorii:"
   ]
  },
  {
   "cell_type": "code",
   "execution_count": 100,
   "id": "52810ea7",
   "metadata": {},
   "outputs": [],
   "source": [
    "ageCategory_dict = {'55-59': 57, '80 or older': 80, '65-69': 67,\n",
    "                      '75-79': 77,'40-44': 42,'70-74': 72,'60-64': 62,\n",
    "                      '50-54': 52,'45-49': 47,'18-24': 21,'35-39': 37,\n",
    "                      '30-34': 32,'25-29': 27}\n",
    "\n",
    "df['AgeCategory'] = df['AgeCategory'].apply(lambda val: ageCategory_dict[val])\n",
    "df['AgeCategory'] = df['AgeCategory'].astype('float')"
   ]
  },
  {
   "cell_type": "markdown",
   "id": "1e4f8f26",
   "metadata": {},
   "source": [
    "Wszystkie powyższe kolumny wydają się być na podstawie opisów odpowiednie do nauki klasyfikatorów. Należy jednak zwrócić uwagę, że dane są niezbalansowane. Poradzimy sobie z tym używając metody oversamplingu."
   ]
  },
  {
   "cell_type": "markdown",
   "id": "bf1a1c9b",
   "metadata": {},
   "source": [
    "### Rozkład danych ciągłych:"
   ]
  },
  {
   "cell_type": "code",
   "execution_count": 102,
   "id": "ac7ede69",
   "metadata": {
    "scrolled": true
   },
   "outputs": [
    {
     "data": {
      "text/html": [
       "<div>\n",
       "<style scoped>\n",
       "    .dataframe tbody tr th:only-of-type {\n",
       "        vertical-align: middle;\n",
       "    }\n",
       "\n",
       "    .dataframe tbody tr th {\n",
       "        vertical-align: top;\n",
       "    }\n",
       "\n",
       "    .dataframe thead th {\n",
       "        text-align: right;\n",
       "    }\n",
       "</style>\n",
       "<table border=\"1\" class=\"dataframe\">\n",
       "  <thead>\n",
       "    <tr style=\"text-align: right;\">\n",
       "      <th></th>\n",
       "      <th>HeartDisease</th>\n",
       "      <th>BMI</th>\n",
       "      <th>Smoking</th>\n",
       "      <th>AlcoholDrinking</th>\n",
       "      <th>Stroke</th>\n",
       "      <th>PhysicalHealth</th>\n",
       "      <th>MentalHealth</th>\n",
       "      <th>DiffWalking</th>\n",
       "      <th>Sex</th>\n",
       "      <th>AgeCategory</th>\n",
       "      <th>...</th>\n",
       "      <th>Race_White</th>\n",
       "      <th>Diabetic_No</th>\n",
       "      <th>Diabetic_No, borderline diabetes</th>\n",
       "      <th>Diabetic_Yes</th>\n",
       "      <th>Diabetic_Yes (during pregnancy)</th>\n",
       "      <th>GenHealth_Excellent</th>\n",
       "      <th>GenHealth_Fair</th>\n",
       "      <th>GenHealth_Good</th>\n",
       "      <th>GenHealth_Poor</th>\n",
       "      <th>GenHealth_Very good</th>\n",
       "    </tr>\n",
       "  </thead>\n",
       "  <tbody>\n",
       "    <tr>\n",
       "      <th>0</th>\n",
       "      <td>0</td>\n",
       "      <td>16.60</td>\n",
       "      <td>1</td>\n",
       "      <td>0</td>\n",
       "      <td>0</td>\n",
       "      <td>3.0</td>\n",
       "      <td>30.0</td>\n",
       "      <td>0</td>\n",
       "      <td>0</td>\n",
       "      <td>57.0</td>\n",
       "      <td>...</td>\n",
       "      <td>1</td>\n",
       "      <td>0</td>\n",
       "      <td>0</td>\n",
       "      <td>1</td>\n",
       "      <td>0</td>\n",
       "      <td>0</td>\n",
       "      <td>0</td>\n",
       "      <td>0</td>\n",
       "      <td>0</td>\n",
       "      <td>1</td>\n",
       "    </tr>\n",
       "    <tr>\n",
       "      <th>1</th>\n",
       "      <td>0</td>\n",
       "      <td>20.34</td>\n",
       "      <td>0</td>\n",
       "      <td>0</td>\n",
       "      <td>1</td>\n",
       "      <td>0.0</td>\n",
       "      <td>0.0</td>\n",
       "      <td>0</td>\n",
       "      <td>0</td>\n",
       "      <td>80.0</td>\n",
       "      <td>...</td>\n",
       "      <td>1</td>\n",
       "      <td>1</td>\n",
       "      <td>0</td>\n",
       "      <td>0</td>\n",
       "      <td>0</td>\n",
       "      <td>0</td>\n",
       "      <td>0</td>\n",
       "      <td>0</td>\n",
       "      <td>0</td>\n",
       "      <td>1</td>\n",
       "    </tr>\n",
       "    <tr>\n",
       "      <th>2</th>\n",
       "      <td>0</td>\n",
       "      <td>26.58</td>\n",
       "      <td>1</td>\n",
       "      <td>0</td>\n",
       "      <td>0</td>\n",
       "      <td>20.0</td>\n",
       "      <td>30.0</td>\n",
       "      <td>0</td>\n",
       "      <td>1</td>\n",
       "      <td>67.0</td>\n",
       "      <td>...</td>\n",
       "      <td>1</td>\n",
       "      <td>0</td>\n",
       "      <td>0</td>\n",
       "      <td>1</td>\n",
       "      <td>0</td>\n",
       "      <td>0</td>\n",
       "      <td>1</td>\n",
       "      <td>0</td>\n",
       "      <td>0</td>\n",
       "      <td>0</td>\n",
       "    </tr>\n",
       "    <tr>\n",
       "      <th>3</th>\n",
       "      <td>0</td>\n",
       "      <td>24.21</td>\n",
       "      <td>0</td>\n",
       "      <td>0</td>\n",
       "      <td>0</td>\n",
       "      <td>0.0</td>\n",
       "      <td>0.0</td>\n",
       "      <td>0</td>\n",
       "      <td>0</td>\n",
       "      <td>77.0</td>\n",
       "      <td>...</td>\n",
       "      <td>1</td>\n",
       "      <td>1</td>\n",
       "      <td>0</td>\n",
       "      <td>0</td>\n",
       "      <td>0</td>\n",
       "      <td>0</td>\n",
       "      <td>0</td>\n",
       "      <td>1</td>\n",
       "      <td>0</td>\n",
       "      <td>0</td>\n",
       "    </tr>\n",
       "    <tr>\n",
       "      <th>4</th>\n",
       "      <td>0</td>\n",
       "      <td>23.71</td>\n",
       "      <td>0</td>\n",
       "      <td>0</td>\n",
       "      <td>0</td>\n",
       "      <td>28.0</td>\n",
       "      <td>0.0</td>\n",
       "      <td>1</td>\n",
       "      <td>0</td>\n",
       "      <td>42.0</td>\n",
       "      <td>...</td>\n",
       "      <td>1</td>\n",
       "      <td>1</td>\n",
       "      <td>0</td>\n",
       "      <td>0</td>\n",
       "      <td>0</td>\n",
       "      <td>0</td>\n",
       "      <td>0</td>\n",
       "      <td>0</td>\n",
       "      <td>0</td>\n",
       "      <td>1</td>\n",
       "    </tr>\n",
       "    <tr>\n",
       "      <th>...</th>\n",
       "      <td>...</td>\n",
       "      <td>...</td>\n",
       "      <td>...</td>\n",
       "      <td>...</td>\n",
       "      <td>...</td>\n",
       "      <td>...</td>\n",
       "      <td>...</td>\n",
       "      <td>...</td>\n",
       "      <td>...</td>\n",
       "      <td>...</td>\n",
       "      <td>...</td>\n",
       "      <td>...</td>\n",
       "      <td>...</td>\n",
       "      <td>...</td>\n",
       "      <td>...</td>\n",
       "      <td>...</td>\n",
       "      <td>...</td>\n",
       "      <td>...</td>\n",
       "      <td>...</td>\n",
       "      <td>...</td>\n",
       "      <td>...</td>\n",
       "    </tr>\n",
       "    <tr>\n",
       "      <th>319790</th>\n",
       "      <td>1</td>\n",
       "      <td>27.41</td>\n",
       "      <td>1</td>\n",
       "      <td>0</td>\n",
       "      <td>0</td>\n",
       "      <td>7.0</td>\n",
       "      <td>0.0</td>\n",
       "      <td>1</td>\n",
       "      <td>1</td>\n",
       "      <td>62.0</td>\n",
       "      <td>...</td>\n",
       "      <td>0</td>\n",
       "      <td>0</td>\n",
       "      <td>0</td>\n",
       "      <td>1</td>\n",
       "      <td>0</td>\n",
       "      <td>0</td>\n",
       "      <td>1</td>\n",
       "      <td>0</td>\n",
       "      <td>0</td>\n",
       "      <td>0</td>\n",
       "    </tr>\n",
       "    <tr>\n",
       "      <th>319791</th>\n",
       "      <td>0</td>\n",
       "      <td>29.84</td>\n",
       "      <td>1</td>\n",
       "      <td>0</td>\n",
       "      <td>0</td>\n",
       "      <td>0.0</td>\n",
       "      <td>0.0</td>\n",
       "      <td>0</td>\n",
       "      <td>1</td>\n",
       "      <td>37.0</td>\n",
       "      <td>...</td>\n",
       "      <td>0</td>\n",
       "      <td>1</td>\n",
       "      <td>0</td>\n",
       "      <td>0</td>\n",
       "      <td>0</td>\n",
       "      <td>0</td>\n",
       "      <td>0</td>\n",
       "      <td>0</td>\n",
       "      <td>0</td>\n",
       "      <td>1</td>\n",
       "    </tr>\n",
       "    <tr>\n",
       "      <th>319792</th>\n",
       "      <td>0</td>\n",
       "      <td>24.24</td>\n",
       "      <td>0</td>\n",
       "      <td>0</td>\n",
       "      <td>0</td>\n",
       "      <td>0.0</td>\n",
       "      <td>0.0</td>\n",
       "      <td>0</td>\n",
       "      <td>0</td>\n",
       "      <td>47.0</td>\n",
       "      <td>...</td>\n",
       "      <td>0</td>\n",
       "      <td>1</td>\n",
       "      <td>0</td>\n",
       "      <td>0</td>\n",
       "      <td>0</td>\n",
       "      <td>0</td>\n",
       "      <td>0</td>\n",
       "      <td>1</td>\n",
       "      <td>0</td>\n",
       "      <td>0</td>\n",
       "    </tr>\n",
       "    <tr>\n",
       "      <th>319793</th>\n",
       "      <td>0</td>\n",
       "      <td>32.81</td>\n",
       "      <td>0</td>\n",
       "      <td>0</td>\n",
       "      <td>0</td>\n",
       "      <td>0.0</td>\n",
       "      <td>0.0</td>\n",
       "      <td>0</td>\n",
       "      <td>0</td>\n",
       "      <td>27.0</td>\n",
       "      <td>...</td>\n",
       "      <td>0</td>\n",
       "      <td>1</td>\n",
       "      <td>0</td>\n",
       "      <td>0</td>\n",
       "      <td>0</td>\n",
       "      <td>0</td>\n",
       "      <td>0</td>\n",
       "      <td>1</td>\n",
       "      <td>0</td>\n",
       "      <td>0</td>\n",
       "    </tr>\n",
       "    <tr>\n",
       "      <th>319794</th>\n",
       "      <td>0</td>\n",
       "      <td>46.56</td>\n",
       "      <td>0</td>\n",
       "      <td>0</td>\n",
       "      <td>0</td>\n",
       "      <td>0.0</td>\n",
       "      <td>0.0</td>\n",
       "      <td>0</td>\n",
       "      <td>0</td>\n",
       "      <td>80.0</td>\n",
       "      <td>...</td>\n",
       "      <td>0</td>\n",
       "      <td>1</td>\n",
       "      <td>0</td>\n",
       "      <td>0</td>\n",
       "      <td>0</td>\n",
       "      <td>0</td>\n",
       "      <td>0</td>\n",
       "      <td>1</td>\n",
       "      <td>0</td>\n",
       "      <td>0</td>\n",
       "    </tr>\n",
       "  </tbody>\n",
       "</table>\n",
       "<p>319795 rows × 30 columns</p>\n",
       "</div>"
      ],
      "text/plain": [
       "        HeartDisease    BMI  Smoking  AlcoholDrinking  Stroke  PhysicalHealth  \\\n",
       "0                  0  16.60        1                0       0             3.0   \n",
       "1                  0  20.34        0                0       1             0.0   \n",
       "2                  0  26.58        1                0       0            20.0   \n",
       "3                  0  24.21        0                0       0             0.0   \n",
       "4                  0  23.71        0                0       0            28.0   \n",
       "...              ...    ...      ...              ...     ...             ...   \n",
       "319790             1  27.41        1                0       0             7.0   \n",
       "319791             0  29.84        1                0       0             0.0   \n",
       "319792             0  24.24        0                0       0             0.0   \n",
       "319793             0  32.81        0                0       0             0.0   \n",
       "319794             0  46.56        0                0       0             0.0   \n",
       "\n",
       "        MentalHealth  DiffWalking  Sex  AgeCategory  ...  Race_White  \\\n",
       "0               30.0            0    0         57.0  ...           1   \n",
       "1                0.0            0    0         80.0  ...           1   \n",
       "2               30.0            0    1         67.0  ...           1   \n",
       "3                0.0            0    0         77.0  ...           1   \n",
       "4                0.0            1    0         42.0  ...           1   \n",
       "...              ...          ...  ...          ...  ...         ...   \n",
       "319790           0.0            1    1         62.0  ...           0   \n",
       "319791           0.0            0    1         37.0  ...           0   \n",
       "319792           0.0            0    0         47.0  ...           0   \n",
       "319793           0.0            0    0         27.0  ...           0   \n",
       "319794           0.0            0    0         80.0  ...           0   \n",
       "\n",
       "        Diabetic_No  Diabetic_No, borderline diabetes  Diabetic_Yes  \\\n",
       "0                 0                                 0             1   \n",
       "1                 1                                 0             0   \n",
       "2                 0                                 0             1   \n",
       "3                 1                                 0             0   \n",
       "4                 1                                 0             0   \n",
       "...             ...                               ...           ...   \n",
       "319790            0                                 0             1   \n",
       "319791            1                                 0             0   \n",
       "319792            1                                 0             0   \n",
       "319793            1                                 0             0   \n",
       "319794            1                                 0             0   \n",
       "\n",
       "        Diabetic_Yes (during pregnancy)  GenHealth_Excellent  GenHealth_Fair  \\\n",
       "0                                     0                    0               0   \n",
       "1                                     0                    0               0   \n",
       "2                                     0                    0               1   \n",
       "3                                     0                    0               0   \n",
       "4                                     0                    0               0   \n",
       "...                                 ...                  ...             ...   \n",
       "319790                                0                    0               1   \n",
       "319791                                0                    0               0   \n",
       "319792                                0                    0               0   \n",
       "319793                                0                    0               0   \n",
       "319794                                0                    0               0   \n",
       "\n",
       "        GenHealth_Good  GenHealth_Poor  GenHealth_Very good  \n",
       "0                    0               0                    1  \n",
       "1                    0               0                    1  \n",
       "2                    0               0                    0  \n",
       "3                    1               0                    0  \n",
       "4                    0               0                    1  \n",
       "...                ...             ...                  ...  \n",
       "319790               0               0                    0  \n",
       "319791               0               0                    1  \n",
       "319792               1               0                    0  \n",
       "319793               1               0                    0  \n",
       "319794               1               0                    0  \n",
       "\n",
       "[319795 rows x 30 columns]"
      ]
     },
     "execution_count": 102,
     "metadata": {},
     "output_type": "execute_result"
    },
    {
     "data": {
      "image/png": "[encoded data removed]",
      "text/plain": [
       "<Figure size 864x432 with 1 Axes>"
      ]
     },
     "metadata": {},
     "output_type": "display_data"
    }
   ],
   "source": [
    "plt.figure(figsize=(12,6))\n",
    "\n",
    "sns.histplot(data=df[df['HeartDisease']=='Yes'],x='BMI',kde=True,color='red')\n",
    "sns.histplot(data=df[df['HeartDisease']=='No'],x='BMI',kde=True,color='blue')\n",
    "plt.title('Distribution of BMI Among People')\n",
    "data"
   ]
  },
  {
   "cell_type": "code",
   "execution_count": 104,
   "id": "0bbd5462",
   "metadata": {},
   "outputs": [
    {
     "data": {
      "application/vnd.plotly.v1+json": {
       "config": {
        "plotlyServerURL": "https://plot.ly"
       },
       "data": [
        {
         "coloraxis": "coloraxis",
         "hovertemplate": "x: %{x}<br>y: %{y}<br>color: %{z}<extra></extra>",
         "name": "0",
         "type": "heatmap",
         "x": [
          "HeartDisease",
          "Smoking",
          "AlcoholDrinking",
          "Stroke",
          "DiffWalking",
          "Sex",
          "PhysicalActivity",
          "Asthma",
          "KidneyDisease",
          "SkinCancer",
          "BMI",
          "PhysicalHealth",
          "MentalHealth",
          "AgeCategory",
          "SleepTime"
         ],
         "xaxis": "x",
         "y": [
          "HeartDisease",
          "Smoking",
          "AlcoholDrinking",
          "Stroke",
          "DiffWalking",
          "Sex",
          "PhysicalActivity",
          "Asthma",
          "KidneyDisease",
          "SkinCancer",
          "BMI",
          "PhysicalHealth",
          "MentalHealth",
          "AgeCategory",
          "SleepTime"
         ],
         "yaxis": "y",
         "z": [
          [
           1,
           0.10776415602593577,
           -0.03207974262500417,
           0.19683529884287068,
           0.2012580485737773,
           0.07004047624891856,
           -0.10002993385404217,
           0.04144415110032234,
           0.14519709877256354,
           0.09331687769597886,
           0.05180319065574553,
           0.17072097196616873,
           0.028590714546906277,
           0.23158320851970784,
           0.008326646858285852
          ],
          [
           0.10776415602593577,
           1,
           0.11176752021942088,
           0.06122603951647455,
           0.12007416384008394,
           0.08505248562950851,
           -0.0971737659539628,
           0.024148532018300563,
           0.03491968628492668,
           0.03397738727204867,
           0.02311811243269915,
           0.11535241394047427,
           0.08515728503775283,
           0.13061208216037046,
           -0.030335635088081056
          ],
          [
           -0.03207974262500417,
           0.11176752021942088,
           1,
           -0.01985791423814558,
           -0.03532758282688487,
           0.004200142395935715,
           0.01748698277743856,
           -0.0022021002378207716,
           -0.028280091717843844,
           -0.005702370452955972,
           -0.03881622302230192,
           -0.017254288322825474,
           0.051281972821896955,
           -0.058587008626551314,
           -0.005065450833865205
          ],
          [
           0.19683529884287068,
           0.06122603951647455,
           -0.01985791423814558,
           1,
           0.17414321368906785,
           -0.0030910549780765223,
           -0.0794551948440212,
           0.03886614032726421,
           0.09116684064825993,
           0.04811610449906195,
           0.019732982346395082,
           0.13701382711696222,
           0.04646706132163426,
           0.13673831258982697,
           0.011899980960583199
          ],
          [
           0.2012580485737773,
           0.12007416384008394,
           -0.03532758282688487,
           0.17414321368906785,
           1,
           -0.06885955945150612,
           -0.2785239644744156,
           0.10322204883284222,
           0.15306375213121043,
           0.06484040178427677,
           0.18167826388865677,
           0.4283727985461515,
           0.15223466914599676,
           0.24132761533824507,
           -0.022216357334954015
          ],
          [
           0.07004047624891856,
           0.08505248562950851,
           0.004200142395935715,
           -0.0030910549780765223,
           -0.06885955945150612,
           1,
           0.048246845809630415,
           -0.06919111638314385,
           -0.009083858389322482,
           0.01343379974373332,
           0.02693964525909935,
           -0.040903839313018935,
           -0.10005847280447484,
           -0.0670007447850906,
           -0.015703748280607964
          ],
          [
           -0.10002993385404217,
           -0.0971737659539628,
           0.01748698277743856,
           -0.0794551948440212,
           -0.2785239644744156,
           0.048246845809630415,
           1,
           -0.0415258817742273,
           -0.0818273214414323,
           -0.0013278104683075525,
           -0.15061599390257632,
           -0.2322831770768191,
           -0.09580810490226964,
           -0.12036867337825784,
           0.003848841379443475
          ],
          [
           0.04144415110032234,
           0.024148532018300563,
           -0.0022021002378207716,
           0.03886614032726421,
           0.10322204883284222,
           -0.06919111638314385,
           -0.0415258817742273,
           1,
           0.03970700033814702,
           -0.0003964769423400938,
           0.09234501900622406,
           0.11790658022328045,
           0.1140081744247618,
           -0.05788658709501469,
           -0.04824528030805034
          ],
          [
           0.14519709877256354,
           0.03491968628492668,
           -0.028280091717843844,
           0.09116684064825993,
           0.15306375213121043,
           -0.009083858389322482,
           -0.0818273214414323,
           0.03970700033814702,
           1,
           0.06181621651419233,
           0.05076753286252695,
           0.14219718483824165,
           0.03728112808809573,
           0.12249331295148816,
           0.006237934101449158
          ],
          [
           0.09331687769597886,
           0.03397738727204867,
           -0.005702370452955972,
           0.04811610449906195,
           0.06484040178427677,
           0.01343379974373332,
           -0.0013278104683075525,
           -0.0003964769423400938,
           0.06181621651419233,
           1,
           -0.033643618515338744,
           0.04169968548171403,
           -0.03341219070922064,
           0.2613909215061762,
           0.04126616748652792
          ],
          [
           0.05180319065574553,
           0.02311811243269915,
           -0.03881622302230192,
           0.019732982346395082,
           0.18167826388865677,
           0.02693964525909935,
           -0.15061599390257632,
           0.09234501900622406,
           0.05076753286252695,
           -0.033643618515338744,
           1,
           0.10978754360967981,
           0.06413056947152626,
           -0.00044639093462174075,
           -0.0518222539989217
          ],
          [
           0.17072097196616873,
           0.11535241394047427,
           -0.017254288322825474,
           0.13701382711696222,
           0.4283727985461515,
           -0.040903839313018935,
           -0.2322831770768191,
           0.11790658022328045,
           0.14219718483824165,
           0.04169968548171403,
           0.10978754360967981,
           1,
           0.2879866740873284,
           0.11100961741149598,
           -0.061386631929493576
          ],
          [
           0.028590714546906277,
           0.08515728503775283,
           0.051281972821896955,
           0.04646706132163426,
           0.15223466914599676,
           -0.10005847280447484,
           -0.09580810490226964,
           0.1140081744247618,
           0.03728112808809573,
           -0.03341219070922064,
           0.06413056947152626,
           0.2879866740873284,
           1,
           -0.1553270117678142,
           -0.119716788031423
          ],
          [
           0.23158320851970784,
           0.13061208216037046,
           -0.058587008626551314,
           0.13673831258982697,
           0.24132761533824507,
           -0.0670007447850906,
           -0.12036867337825784,
           -0.05788658709501469,
           0.12249331295148816,
           0.2613909215061762,
           -0.00044639093462174075,
           0.11100961741149598,
           -0.1553270117678142,
           1,
           0.10270013206228704
          ],
          [
           0.008326646858285852,
           -0.030335635088081056,
           -0.005065450833865205,
           0.011899980960583199,
           -0.022216357334954015,
           -0.015703748280607964,
           0.003848841379443475,
           -0.04824528030805034,
           0.006237934101449158,
           0.04126616748652792,
           -0.0518222539989217,
           -0.061386631929493576,
           -0.119716788031423,
           0.10270013206228704,
           1
          ]
         ]
        }
       ],
       "layout": {
        "coloraxis": {
         "colorscale": [
          [
           0,
           "#0d0887"
          ],
          [
           0.1111111111111111,
           "#46039f"
          ],
          [
           0.2222222222222222,
           "#7201a8"
          ],
          [
           0.3333333333333333,
           "#9c179e"
          ],
          [
           0.4444444444444444,
           "#bd3786"
          ],
          [
           0.5555555555555556,
           "#d8576b"
          ],
          [
           0.6666666666666666,
           "#ed7953"
          ],
          [
           0.7777777777777778,
           "#fb9f3a"
          ],
          [
           0.8888888888888888,
           "#fdca26"
          ],
          [
           1,
           "#f0f921"
          ]
         ]
        },
        "height": 800,
        "margin": {
         "t": 60
        },
        "template": {
         "data": {
          "bar": [
           {
            "error_x": {
             "color": "#2a3f5f"
            },
            "error_y": {
             "color": "#2a3f5f"
            },
            "marker": {
             "line": {
              "color": "#E5ECF6",
              "width": 0.5
             },
             "pattern": {
              "fillmode": "overlay",
              "size": 10,
              "solidity": 0.2
             }
            },
            "type": "bar"
           }
          ],
          "barpolar": [
           {
            "marker": {
             "line": {
              "color": "#E5ECF6",
              "width": 0.5
             },
             "pattern": {
              "fillmode": "overlay",
              "size": 10,
              "solidity": 0.2
             }
            },
            "type": "barpolar"
           }
          ],
          "carpet": [
           {
            "aaxis": {
             "endlinecolor": "#2a3f5f",
             "gridcolor": "white",
             "linecolor": "white",
             "minorgridcolor": "white",
             "startlinecolor": "#2a3f5f"
            },
            "baxis": {
             "endlinecolor": "#2a3f5f",
             "gridcolor": "white",
             "linecolor": "white",
             "minorgridcolor": "white",
             "startlinecolor": "#2a3f5f"
            },
            "type": "carpet"
           }
          ],
          "choropleth": [
           {
            "colorbar": {
             "outlinewidth": 0,
             "ticks": ""
            },
            "type": "choropleth"
           }
          ],
          "contour": [
           {
            "colorbar": {
             "outlinewidth": 0,
             "ticks": ""
            },
            "colorscale": [
             [
              0,
              "#0d0887"
             ],
             [
              0.1111111111111111,
              "#46039f"
             ],
             [
              0.2222222222222222,
              "#7201a8"
             ],
             [
              0.3333333333333333,
              "#9c179e"
             ],
             [
              0.4444444444444444,
              "#bd3786"
             ],
             [
              0.5555555555555556,
              "#d8576b"
             ],
             [
              0.6666666666666666,
              "#ed7953"
             ],
             [
              0.7777777777777778,
              "#fb9f3a"
             ],
             [
              0.8888888888888888,
              "#fdca26"
             ],
             [
              1,
              "#f0f921"
             ]
            ],
            "type": "contour"
           }
          ],
          "contourcarpet": [
           {
            "colorbar": {
             "outlinewidth": 0,
             "ticks": ""
            },
            "type": "contourcarpet"
           }
          ],
          "heatmap": [
           {
            "colorbar": {
             "outlinewidth": 0,
             "ticks": ""
            },
            "colorscale": [
             [
              0,
              "#0d0887"
             ],
             [
              0.1111111111111111,
              "#46039f"
             ],
             [
              0.2222222222222222,
              "#7201a8"
             ],
             [
              0.3333333333333333,
              "#9c179e"
             ],
             [
              0.4444444444444444,
              "#bd3786"
             ],
             [
              0.5555555555555556,
              "#d8576b"
             ],
             [
              0.6666666666666666,
              "#ed7953"
             ],
             [
              0.7777777777777778,
              "#fb9f3a"
             ],
             [
              0.8888888888888888,
              "#fdca26"
             ],
             [
              1,
              "#f0f921"
             ]
            ],
            "type": "heatmap"
           }
          ],
          "heatmapgl": [
           {
            "colorbar": {
             "outlinewidth": 0,
             "ticks": ""
            },
            "colorscale": [
             [
              0,
              "#0d0887"
             ],
             [
              0.1111111111111111,
              "#46039f"
             ],
             [
              0.2222222222222222,
              "#7201a8"
             ],
             [
              0.3333333333333333,
              "#9c179e"
             ],
             [
              0.4444444444444444,
              "#bd3786"
             ],
             [
              0.5555555555555556,
              "#d8576b"
             ],
             [
              0.6666666666666666,
              "#ed7953"
             ],
             [
              0.7777777777777778,
              "#fb9f3a"
             ],
             [
              0.8888888888888888,
              "#fdca26"
             ],
             [
              1,
              "#f0f921"
             ]
            ],
            "type": "heatmapgl"
           }
          ],
          "histogram": [
           {
            "marker": {
             "pattern": {
              "fillmode": "overlay",
              "size": 10,
              "solidity": 0.2
             }
            },
            "type": "histogram"
           }
          ],
          "histogram2d": [
           {
            "colorbar": {
             "outlinewidth": 0,
             "ticks": ""
            },
            "colorscale": [
             [
              0,
              "#0d0887"
             ],
             [
              0.1111111111111111,
              "#46039f"
             ],
             [
              0.2222222222222222,
              "#7201a8"
             ],
             [
              0.3333333333333333,
              "#9c179e"
             ],
             [
              0.4444444444444444,
              "#bd3786"
             ],
             [
              0.5555555555555556,
              "#d8576b"
             ],
             [
              0.6666666666666666,
              "#ed7953"
             ],
             [
              0.7777777777777778,
              "#fb9f3a"
             ],
             [
              0.8888888888888888,
              "#fdca26"
             ],
             [
              1,
              "#f0f921"
             ]
            ],
            "type": "histogram2d"
           }
          ],
          "histogram2dcontour": [
           {
            "colorbar": {
             "outlinewidth": 0,
             "ticks": ""
            },
            "colorscale": [
             [
              0,
              "#0d0887"
             ],
             [
              0.1111111111111111,
              "#46039f"
             ],
             [
              0.2222222222222222,
              "#7201a8"
             ],
             [
              0.3333333333333333,
              "#9c179e"
             ],
             [
              0.4444444444444444,
              "#bd3786"
             ],
             [
              0.5555555555555556,
              "#d8576b"
             ],
             [
              0.6666666666666666,
              "#ed7953"
             ],
             [
              0.7777777777777778,
              "#fb9f3a"
             ],
             [
              0.8888888888888888,
              "#fdca26"
             ],
             [
              1,
              "#f0f921"
             ]
            ],
            "type": "histogram2dcontour"
           }
          ],
          "mesh3d": [
           {
            "colorbar": {
             "outlinewidth": 0,
             "ticks": ""
            },
            "type": "mesh3d"
           }
          ],
          "parcoords": [
           {
            "line": {
             "colorbar": {
              "outlinewidth": 0,
              "ticks": ""
             }
            },
            "type": "parcoords"
           }
          ],
          "pie": [
           {
            "automargin": true,
            "type": "pie"
           }
          ],
          "scatter": [
           {
            "marker": {
             "colorbar": {
              "outlinewidth": 0,
              "ticks": ""
             }
            },
            "type": "scatter"
           }
          ],
          "scatter3d": [
           {
            "line": {
             "colorbar": {
              "outlinewidth": 0,
              "ticks": ""
             }
            },
            "marker": {
             "colorbar": {
              "outlinewidth": 0,
              "ticks": ""
             }
            },
            "type": "scatter3d"
           }
          ],
          "scattercarpet": [
           {
            "marker": {
             "colorbar": {
              "outlinewidth": 0,
              "ticks": ""
             }
            },
            "type": "scattercarpet"
           }
          ],
          "scattergeo": [
           {
            "marker": {
             "colorbar": {
              "outlinewidth": 0,
              "ticks": ""
             }
            },
            "type": "scattergeo"
           }
          ],
          "scattergl": [
           {
            "marker": {
             "colorbar": {
              "outlinewidth": 0,
              "ticks": ""
             }
            },
            "type": "scattergl"
           }
          ],
          "scattermapbox": [
           {
            "marker": {
             "colorbar": {
              "outlinewidth": 0,
              "ticks": ""
             }
            },
            "type": "scattermapbox"
           }
          ],
          "scatterpolar": [
           {
            "marker": {
             "colorbar": {
              "outlinewidth": 0,
              "ticks": ""
             }
            },
            "type": "scatterpolar"
           }
          ],
          "scatterpolargl": [
           {
            "marker": {
             "colorbar": {
              "outlinewidth": 0,
              "ticks": ""
             }
            },
            "type": "scatterpolargl"
           }
          ],
          "scatterternary": [
           {
            "marker": {
             "colorbar": {
              "outlinewidth": 0,
              "ticks": ""
             }
            },
            "type": "scatterternary"
           }
          ],
          "surface": [
           {
            "colorbar": {
             "outlinewidth": 0,
             "ticks": ""
            },
            "colorscale": [
             [
              0,
              "#0d0887"
             ],
             [
              0.1111111111111111,
              "#46039f"
             ],
             [
              0.2222222222222222,
              "#7201a8"
             ],
             [
              0.3333333333333333,
              "#9c179e"
             ],
             [
              0.4444444444444444,
              "#bd3786"
             ],
             [
              0.5555555555555556,
              "#d8576b"
             ],
             [
              0.6666666666666666,
              "#ed7953"
             ],
             [
              0.7777777777777778,
              "#fb9f3a"
             ],
             [
              0.8888888888888888,
              "#fdca26"
             ],
             [
              1,
              "#f0f921"
             ]
            ],
            "type": "surface"
           }
          ],
          "table": [
           {
            "cells": {
             "fill": {
              "color": "#EBF0F8"
             },
             "line": {
              "color": "white"
             }
            },
            "header": {
             "fill": {
              "color": "#C8D4E3"
             },
             "line": {
              "color": "white"
             }
            },
            "type": "table"
           }
          ]
         },
         "layout": {
          "annotationdefaults": {
           "arrowcolor": "#2a3f5f",
           "arrowhead": 0,
           "arrowwidth": 1
          },
          "autotypenumbers": "strict",
          "coloraxis": {
           "colorbar": {
            "outlinewidth": 0,
            "ticks": ""
           }
          },
          "colorscale": {
           "diverging": [
            [
             0,
             "#8e0152"
            ],
            [
             0.1,
             "#c51b7d"
            ],
            [
             0.2,
             "#de77ae"
            ],
            [
             0.3,
             "#f1b6da"
            ],
            [
             0.4,
             "#fde0ef"
            ],
            [
             0.5,
             "#f7f7f7"
            ],
            [
             0.6,
             "#e6f5d0"
            ],
            [
             0.7,
             "#b8e186"
            ],
            [
             0.8,
             "#7fbc41"
            ],
            [
             0.9,
             "#4d9221"
            ],
            [
             1,
             "#276419"
            ]
           ],
           "sequential": [
            [
             0,
             "#0d0887"
            ],
            [
             0.1111111111111111,
             "#46039f"
            ],
            [
             0.2222222222222222,
             "#7201a8"
            ],
            [
             0.3333333333333333,
             "#9c179e"
            ],
            [
             0.4444444444444444,
             "#bd3786"
            ],
            [
             0.5555555555555556,
             "#d8576b"
            ],
            [
             0.6666666666666666,
             "#ed7953"
            ],
            [
             0.7777777777777778,
             "#fb9f3a"
            ],
            [
             0.8888888888888888,
             "#fdca26"
            ],
            [
             1,
             "#f0f921"
            ]
           ],
           "sequentialminus": [
            [
             0,
             "#0d0887"
            ],
            [
             0.1111111111111111,
             "#46039f"
            ],
            [
             0.2222222222222222,
             "#7201a8"
            ],
            [
             0.3333333333333333,
             "#9c179e"
            ],
            [
             0.4444444444444444,
             "#bd3786"
            ],
            [
             0.5555555555555556,
             "#d8576b"
            ],
            [
             0.6666666666666666,
             "#ed7953"
            ],
            [
             0.7777777777777778,
             "#fb9f3a"
            ],
            [
             0.8888888888888888,
             "#fdca26"
            ],
            [
             1,
             "#f0f921"
            ]
           ]
          },
          "colorway": [
           "#636efa",
           "#EF553B",
           "#00cc96",
           "#ab63fa",
           "#FFA15A",
           "#19d3f3",
           "#FF6692",
           "#B6E880",
           "#FF97FF",
           "#FECB52"
          ],
          "font": {
           "color": "#2a3f5f"
          },
          "geo": {
           "bgcolor": "white",
           "lakecolor": "white",
           "landcolor": "#E5ECF6",
           "showlakes": true,
           "showland": true,
           "subunitcolor": "white"
          },
          "hoverlabel": {
           "align": "left"
          },
          "hovermode": "closest",
          "mapbox": {
           "style": "light"
          },
          "paper_bgcolor": "white",
          "plot_bgcolor": "#E5ECF6",
          "polar": {
           "angularaxis": {
            "gridcolor": "white",
            "linecolor": "white",
            "ticks": ""
           },
           "bgcolor": "#E5ECF6",
           "radialaxis": {
            "gridcolor": "white",
            "linecolor": "white",
            "ticks": ""
           }
          },
          "scene": {
           "xaxis": {
            "backgroundcolor": "#E5ECF6",
            "gridcolor": "white",
            "gridwidth": 2,
            "linecolor": "white",
            "showbackground": true,
            "ticks": "",
            "zerolinecolor": "white"
           },
           "yaxis": {
            "backgroundcolor": "#E5ECF6",
            "gridcolor": "white",
            "gridwidth": 2,
            "linecolor": "white",
            "showbackground": true,
            "ticks": "",
            "zerolinecolor": "white"
           },
           "zaxis": {
            "backgroundcolor": "#E5ECF6",
            "gridcolor": "white",
            "gridwidth": 2,
            "linecolor": "white",
            "showbackground": true,
            "ticks": "",
            "zerolinecolor": "white"
           }
          },
          "shapedefaults": {
           "line": {
            "color": "#2a3f5f"
           }
          },
          "ternary": {
           "aaxis": {
            "gridcolor": "white",
            "linecolor": "white",
            "ticks": ""
           },
           "baxis": {
            "gridcolor": "white",
            "linecolor": "white",
            "ticks": ""
           },
           "bgcolor": "#E5ECF6",
           "caxis": {
            "gridcolor": "white",
            "linecolor": "white",
            "ticks": ""
           }
          },
          "title": {
           "x": 0.05
          },
          "xaxis": {
           "automargin": true,
           "gridcolor": "white",
           "linecolor": "white",
           "ticks": "",
           "title": {
            "standoff": 15
           },
           "zerolinecolor": "white",
           "zerolinewidth": 2
          },
          "yaxis": {
           "automargin": true,
           "gridcolor": "white",
           "linecolor": "white",
           "ticks": "",
           "title": {
            "standoff": 15
           },
           "zerolinecolor": "white",
           "zerolinewidth": 2
          }
         }
        },
        "xaxis": {
         "anchor": "y",
         "constrain": "domain",
         "domain": [
          0,
          1
         ],
         "scaleanchor": "y"
        },
        "yaxis": {
         "anchor": "x",
         "autorange": "reversed",
         "constrain": "domain",
         "domain": [
          0,
          1
         ]
        }
       }
      },
      "text/html": [
       "<div>                            <div id=\"8949ad7b-56b7-41af-a83f-216e1d993b7b\" class=\"plotly-graph-div\" style=\"height:800px; width:100%;\"></div>            <script type=\"text/javascript\">                require([\"plotly\"], function(Plotly) {                    window.PLOTLYENV=window.PLOTLYENV || {};                                    if (document.getElementById(\"8949ad7b-56b7-41af-a83f-216e1d993b7b\")) {                    Plotly.newPlot(                        \"8949ad7b-56b7-41af-a83f-216e1d993b7b\",                        [{\"coloraxis\":\"coloraxis\",\"name\":\"0\",\"x\":[\"HeartDisease\",\"Smoking\",\"AlcoholDrinking\",\"Stroke\",\"DiffWalking\",\"Sex\",\"PhysicalActivity\",\"Asthma\",\"KidneyDisease\",\"SkinCancer\",\"BMI\",\"PhysicalHealth\",\"MentalHealth\",\"AgeCategory\",\"SleepTime\"],\"y\":[\"HeartDisease\",\"Smoking\",\"AlcoholDrinking\",\"Stroke\",\"DiffWalking\",\"Sex\",\"PhysicalActivity\",\"Asthma\",\"KidneyDisease\",\"SkinCancer\",\"BMI\",\"PhysicalHealth\",\"MentalHealth\",\"AgeCategory\",\"SleepTime\"],\"z\":[[1.0,0.10776415602593577,-0.03207974262500417,0.19683529884287068,0.2012580485737773,0.07004047624891856,-0.10002993385404217,0.04144415110032234,0.14519709877256354,0.09331687769597886,0.05180319065574553,0.17072097196616873,0.028590714546906277,0.23158320851970784,0.008326646858285852],[0.10776415602593577,1.0,0.11176752021942088,0.06122603951647455,0.12007416384008394,0.08505248562950851,-0.0971737659539628,0.024148532018300563,0.03491968628492668,0.03397738727204867,0.02311811243269915,0.11535241394047427,0.08515728503775283,0.13061208216037046,-0.030335635088081056],[-0.03207974262500417,0.11176752021942088,1.0,-0.01985791423814558,-0.03532758282688487,0.004200142395935715,0.01748698277743856,-0.0022021002378207716,-0.028280091717843844,-0.005702370452955972,-0.03881622302230192,-0.017254288322825474,0.051281972821896955,-0.058587008626551314,-0.005065450833865205],[0.19683529884287068,0.06122603951647455,-0.01985791423814558,1.0,0.17414321368906785,-0.0030910549780765223,-0.0794551948440212,0.03886614032726421,0.09116684064825993,0.04811610449906195,0.019732982346395082,0.13701382711696222,0.04646706132163426,0.13673831258982697,0.011899980960583199],[0.2012580485737773,0.12007416384008394,-0.03532758282688487,0.17414321368906785,1.0,-0.06885955945150612,-0.2785239644744156,0.10322204883284222,0.15306375213121043,0.06484040178427677,0.18167826388865677,0.4283727985461515,0.15223466914599676,0.24132761533824507,-0.022216357334954015],[0.07004047624891856,0.08505248562950851,0.004200142395935715,-0.0030910549780765223,-0.06885955945150612,1.0,0.048246845809630415,-0.06919111638314385,-0.009083858389322482,0.01343379974373332,0.02693964525909935,-0.040903839313018935,-0.10005847280447484,-0.0670007447850906,-0.015703748280607964],[-0.10002993385404217,-0.0971737659539628,0.01748698277743856,-0.0794551948440212,-0.2785239644744156,0.048246845809630415,1.0,-0.0415258817742273,-0.0818273214414323,-0.0013278104683075525,-0.15061599390257632,-0.2322831770768191,-0.09580810490226964,-0.12036867337825784,0.003848841379443475],[0.04144415110032234,0.024148532018300563,-0.0022021002378207716,0.03886614032726421,0.10322204883284222,-0.06919111638314385,-0.0415258817742273,1.0,0.03970700033814702,-0.0003964769423400938,0.09234501900622406,0.11790658022328045,0.1140081744247618,-0.05788658709501469,-0.04824528030805034],[0.14519709877256354,0.03491968628492668,-0.028280091717843844,0.09116684064825993,0.15306375213121043,-0.009083858389322482,-0.0818273214414323,0.03970700033814702,1.0,0.06181621651419233,0.05076753286252695,0.14219718483824165,0.03728112808809573,0.12249331295148816,0.006237934101449158],[0.09331687769597886,0.03397738727204867,-0.005702370452955972,0.04811610449906195,0.06484040178427677,0.01343379974373332,-0.0013278104683075525,-0.0003964769423400938,0.06181621651419233,1.0,-0.033643618515338744,0.04169968548171403,-0.03341219070922064,0.2613909215061762,0.04126616748652792],[0.05180319065574553,0.02311811243269915,-0.03881622302230192,0.019732982346395082,0.18167826388865677,0.02693964525909935,-0.15061599390257632,0.09234501900622406,0.05076753286252695,-0.033643618515338744,1.0,0.10978754360967981,0.06413056947152626,-0.00044639093462174075,-0.0518222539989217],[0.17072097196616873,0.11535241394047427,-0.017254288322825474,0.13701382711696222,0.4283727985461515,-0.040903839313018935,-0.2322831770768191,0.11790658022328045,0.14219718483824165,0.04169968548171403,0.10978754360967981,1.0,0.2879866740873284,0.11100961741149598,-0.061386631929493576],[0.028590714546906277,0.08515728503775283,0.051281972821896955,0.04646706132163426,0.15223466914599676,-0.10005847280447484,-0.09580810490226964,0.1140081744247618,0.03728112808809573,-0.03341219070922064,0.06413056947152626,0.2879866740873284,1.0,-0.1553270117678142,-0.119716788031423],[0.23158320851970784,0.13061208216037046,-0.058587008626551314,0.13673831258982697,0.24132761533824507,-0.0670007447850906,-0.12036867337825784,-0.05788658709501469,0.12249331295148816,0.2613909215061762,-0.00044639093462174075,0.11100961741149598,-0.1553270117678142,1.0,0.10270013206228704],[0.008326646858285852,-0.030335635088081056,-0.005065450833865205,0.011899980960583199,-0.022216357334954015,-0.015703748280607964,0.003848841379443475,-0.04824528030805034,0.006237934101449158,0.04126616748652792,-0.0518222539989217,-0.061386631929493576,-0.119716788031423,0.10270013206228704,1.0]],\"type\":\"heatmap\",\"xaxis\":\"x\",\"yaxis\":\"y\",\"hovertemplate\":\"x: %{x}<br>y: %{y}<br>color: %{z}<extra></extra>\"}],                        {\"template\":{\"data\":{\"bar\":[{\"error_x\":{\"color\":\"#2a3f5f\"},\"error_y\":{\"color\":\"#2a3f5f\"},\"marker\":{\"line\":{\"color\":\"#E5ECF6\",\"width\":0.5},\"pattern\":{\"fillmode\":\"overlay\",\"size\":10,\"solidity\":0.2}},\"type\":\"bar\"}],\"barpolar\":[{\"marker\":{\"line\":{\"color\":\"#E5ECF6\",\"width\":0.5},\"pattern\":{\"fillmode\":\"overlay\",\"size\":10,\"solidity\":0.2}},\"type\":\"barpolar\"}],\"carpet\":[{\"aaxis\":{\"endlinecolor\":\"#2a3f5f\",\"gridcolor\":\"white\",\"linecolor\":\"white\",\"minorgridcolor\":\"white\",\"startlinecolor\":\"#2a3f5f\"},\"baxis\":{\"endlinecolor\":\"#2a3f5f\",\"gridcolor\":\"white\",\"linecolor\":\"white\",\"minorgridcolor\":\"white\",\"startlinecolor\":\"#2a3f5f\"},\"type\":\"carpet\"}],\"choropleth\":[{\"colorbar\":{\"outlinewidth\":0,\"ticks\":\"\"},\"type\":\"choropleth\"}],\"contour\":[{\"colorbar\":{\"outlinewidth\":0,\"ticks\":\"\"},\"colorscale\":[[0.0,\"#0d0887\"],[0.1111111111111111,\"#46039f\"],[0.2222222222222222,\"#7201a8\"],[0.3333333333333333,\"#9c179e\"],[0.4444444444444444,\"#bd3786\"],[0.5555555555555556,\"#d8576b\"],[0.6666666666666666,\"#ed7953\"],[0.7777777777777778,\"#fb9f3a\"],[0.8888888888888888,\"#fdca26\"],[1.0,\"#f0f921\"]],\"type\":\"contour\"}],\"contourcarpet\":[{\"colorbar\":{\"outlinewidth\":0,\"ticks\":\"\"},\"type\":\"contourcarpet\"}],\"heatmap\":[{\"colorbar\":{\"outlinewidth\":0,\"ticks\":\"\"},\"colorscale\":[[0.0,\"#0d0887\"],[0.1111111111111111,\"#46039f\"],[0.2222222222222222,\"#7201a8\"],[0.3333333333333333,\"#9c179e\"],[0.4444444444444444,\"#bd3786\"],[0.5555555555555556,\"#d8576b\"],[0.6666666666666666,\"#ed7953\"],[0.7777777777777778,\"#fb9f3a\"],[0.8888888888888888,\"#fdca26\"],[1.0,\"#f0f921\"]],\"type\":\"heatmap\"}],\"heatmapgl\":[{\"colorbar\":{\"outlinewidth\":0,\"ticks\":\"\"},\"colorscale\":[[0.0,\"#0d0887\"],[0.1111111111111111,\"#46039f\"],[0.2222222222222222,\"#7201a8\"],[0.3333333333333333,\"#9c179e\"],[0.4444444444444444,\"#bd3786\"],[0.5555555555555556,\"#d8576b\"],[0.6666666666666666,\"#ed7953\"],[0.7777777777777778,\"#fb9f3a\"],[0.8888888888888888,\"#fdca26\"],[1.0,\"#f0f921\"]],\"type\":\"heatmapgl\"}],\"histogram\":[{\"marker\":{\"pattern\":{\"fillmode\":\"overlay\",\"size\":10,\"solidity\":0.2}},\"type\":\"histogram\"}],\"histogram2d\":[{\"colorbar\":{\"outlinewidth\":0,\"ticks\":\"\"},\"colorscale\":[[0.0,\"#0d0887\"],[0.1111111111111111,\"#46039f\"],[0.2222222222222222,\"#7201a8\"],[0.3333333333333333,\"#9c179e\"],[0.4444444444444444,\"#bd3786\"],[0.5555555555555556,\"#d8576b\"],[0.6666666666666666,\"#ed7953\"],[0.7777777777777778,\"#fb9f3a\"],[0.8888888888888888,\"#fdca26\"],[1.0,\"#f0f921\"]],\"type\":\"histogram2d\"}],\"histogram2dcontour\":[{\"colorbar\":{\"outlinewidth\":0,\"ticks\":\"\"},\"colorscale\":[[0.0,\"#0d0887\"],[0.1111111111111111,\"#46039f\"],[0.2222222222222222,\"#7201a8\"],[0.3333333333333333,\"#9c179e\"],[0.4444444444444444,\"#bd3786\"],[0.5555555555555556,\"#d8576b\"],[0.6666666666666666,\"#ed7953\"],[0.7777777777777778,\"#fb9f3a\"],[0.8888888888888888,\"#fdca26\"],[1.0,\"#f0f921\"]],\"type\":\"histogram2dcontour\"}],\"mesh3d\":[{\"colorbar\":{\"outlinewidth\":0,\"ticks\":\"\"},\"type\":\"mesh3d\"}],\"parcoords\":[{\"line\":{\"colorbar\":{\"outlinewidth\":0,\"ticks\":\"\"}},\"type\":\"parcoords\"}],\"pie\":[{\"automargin\":true,\"type\":\"pie\"}],\"scatter\":[{\"marker\":{\"colorbar\":{\"outlinewidth\":0,\"ticks\":\"\"}},\"type\":\"scatter\"}],\"scatter3d\":[{\"line\":{\"colorbar\":{\"outlinewidth\":0,\"ticks\":\"\"}},\"marker\":{\"colorbar\":{\"outlinewidth\":0,\"ticks\":\"\"}},\"type\":\"scatter3d\"}],\"scattercarpet\":[{\"marker\":{\"colorbar\":{\"outlinewidth\":0,\"ticks\":\"\"}},\"type\":\"scattercarpet\"}],\"scattergeo\":[{\"marker\":{\"colorbar\":{\"outlinewidth\":0,\"ticks\":\"\"}},\"type\":\"scattergeo\"}],\"scattergl\":[{\"marker\":{\"colorbar\":{\"outlinewidth\":0,\"ticks\":\"\"}},\"type\":\"scattergl\"}],\"scattermapbox\":[{\"marker\":{\"colorbar\":{\"outlinewidth\":0,\"ticks\":\"\"}},\"type\":\"scattermapbox\"}],\"scatterpolar\":[{\"marker\":{\"colorbar\":{\"outlinewidth\":0,\"ticks\":\"\"}},\"type\":\"scatterpolar\"}],\"scatterpolargl\":[{\"marker\":{\"colorbar\":{\"outlinewidth\":0,\"ticks\":\"\"}},\"type\":\"scatterpolargl\"}],\"scatterternary\":[{\"marker\":{\"colorbar\":{\"outlinewidth\":0,\"ticks\":\"\"}},\"type\":\"scatterternary\"}],\"surface\":[{\"colorbar\":{\"outlinewidth\":0,\"ticks\":\"\"},\"colorscale\":[[0.0,\"#0d0887\"],[0.1111111111111111,\"#46039f\"],[0.2222222222222222,\"#7201a8\"],[0.3333333333333333,\"#9c179e\"],[0.4444444444444444,\"#bd3786\"],[0.5555555555555556,\"#d8576b\"],[0.6666666666666666,\"#ed7953\"],[0.7777777777777778,\"#fb9f3a\"],[0.8888888888888888,\"#fdca26\"],[1.0,\"#f0f921\"]],\"type\":\"surface\"}],\"table\":[{\"cells\":{\"fill\":{\"color\":\"#EBF0F8\"},\"line\":{\"color\":\"white\"}},\"header\":{\"fill\":{\"color\":\"#C8D4E3\"},\"line\":{\"color\":\"white\"}},\"type\":\"table\"}]},\"layout\":{\"annotationdefaults\":{\"arrowcolor\":\"#2a3f5f\",\"arrowhead\":0,\"arrowwidth\":1},\"autotypenumbers\":\"strict\",\"coloraxis\":{\"colorbar\":{\"outlinewidth\":0,\"ticks\":\"\"}},\"colorscale\":{\"diverging\":[[0,\"#8e0152\"],[0.1,\"#c51b7d\"],[0.2,\"#de77ae\"],[0.3,\"#f1b6da\"],[0.4,\"#fde0ef\"],[0.5,\"#f7f7f7\"],[0.6,\"#e6f5d0\"],[0.7,\"#b8e186\"],[0.8,\"#7fbc41\"],[0.9,\"#4d9221\"],[1,\"#276419\"]],\"sequential\":[[0.0,\"#0d0887\"],[0.1111111111111111,\"#46039f\"],[0.2222222222222222,\"#7201a8\"],[0.3333333333333333,\"#9c179e\"],[0.4444444444444444,\"#bd3786\"],[0.5555555555555556,\"#d8576b\"],[0.6666666666666666,\"#ed7953\"],[0.7777777777777778,\"#fb9f3a\"],[0.8888888888888888,\"#fdca26\"],[1.0,\"#f0f921\"]],\"sequentialminus\":[[0.0,\"#0d0887\"],[0.1111111111111111,\"#46039f\"],[0.2222222222222222,\"#7201a8\"],[0.3333333333333333,\"#9c179e\"],[0.4444444444444444,\"#bd3786\"],[0.5555555555555556,\"#d8576b\"],[0.6666666666666666,\"#ed7953\"],[0.7777777777777778,\"#fb9f3a\"],[0.8888888888888888,\"#fdca26\"],[1.0,\"#f0f921\"]]},\"colorway\":[\"#636efa\",\"#EF553B\",\"#00cc96\",\"#ab63fa\",\"#FFA15A\",\"#19d3f3\",\"#FF6692\",\"#B6E880\",\"#FF97FF\",\"#FECB52\"],\"font\":{\"color\":\"#2a3f5f\"},\"geo\":{\"bgcolor\":\"white\",\"lakecolor\":\"white\",\"landcolor\":\"#E5ECF6\",\"showlakes\":true,\"showland\":true,\"subunitcolor\":\"white\"},\"hoverlabel\":{\"align\":\"left\"},\"hovermode\":\"closest\",\"mapbox\":{\"style\":\"light\"},\"paper_bgcolor\":\"white\",\"plot_bgcolor\":\"#E5ECF6\",\"polar\":{\"angularaxis\":{\"gridcolor\":\"white\",\"linecolor\":\"white\",\"ticks\":\"\"},\"bgcolor\":\"#E5ECF6\",\"radialaxis\":{\"gridcolor\":\"white\",\"linecolor\":\"white\",\"ticks\":\"\"}},\"scene\":{\"xaxis\":{\"backgroundcolor\":\"#E5ECF6\",\"gridcolor\":\"white\",\"gridwidth\":2,\"linecolor\":\"white\",\"showbackground\":true,\"ticks\":\"\",\"zerolinecolor\":\"white\"},\"yaxis\":{\"backgroundcolor\":\"#E5ECF6\",\"gridcolor\":\"white\",\"gridwidth\":2,\"linecolor\":\"white\",\"showbackground\":true,\"ticks\":\"\",\"zerolinecolor\":\"white\"},\"zaxis\":{\"backgroundcolor\":\"#E5ECF6\",\"gridcolor\":\"white\",\"gridwidth\":2,\"linecolor\":\"white\",\"showbackground\":true,\"ticks\":\"\",\"zerolinecolor\":\"white\"}},\"shapedefaults\":{\"line\":{\"color\":\"#2a3f5f\"}},\"ternary\":{\"aaxis\":{\"gridcolor\":\"white\",\"linecolor\":\"white\",\"ticks\":\"\"},\"baxis\":{\"gridcolor\":\"white\",\"linecolor\":\"white\",\"ticks\":\"\"},\"bgcolor\":\"#E5ECF6\",\"caxis\":{\"gridcolor\":\"white\",\"linecolor\":\"white\",\"ticks\":\"\"}},\"title\":{\"x\":0.05},\"xaxis\":{\"automargin\":true,\"gridcolor\":\"white\",\"linecolor\":\"white\",\"ticks\":\"\",\"title\":{\"standoff\":15},\"zerolinecolor\":\"white\",\"zerolinewidth\":2},\"yaxis\":{\"automargin\":true,\"gridcolor\":\"white\",\"linecolor\":\"white\",\"ticks\":\"\",\"title\":{\"standoff\":15},\"zerolinecolor\":\"white\",\"zerolinewidth\":2}}},\"xaxis\":{\"anchor\":\"y\",\"domain\":[0.0,1.0],\"scaleanchor\":\"y\",\"constrain\":\"domain\"},\"yaxis\":{\"anchor\":\"x\",\"domain\":[0.0,1.0],\"autorange\":\"reversed\",\"constrain\":\"domain\"},\"coloraxis\":{\"colorscale\":[[0.0,\"#0d0887\"],[0.1111111111111111,\"#46039f\"],[0.2222222222222222,\"#7201a8\"],[0.3333333333333333,\"#9c179e\"],[0.4444444444444444,\"#bd3786\"],[0.5555555555555556,\"#d8576b\"],[0.6666666666666666,\"#ed7953\"],[0.7777777777777778,\"#fb9f3a\"],[0.8888888888888888,\"#fdca26\"],[1.0,\"#f0f921\"]]},\"margin\":{\"t\":60},\"height\":800},                        {\"responsive\": true}                    ).then(function(){\n",
       "                            \n",
       "var gd = document.getElementById('8949ad7b-56b7-41af-a83f-216e1d993b7b');\n",
       "var x = new MutationObserver(function (mutations, observer) {{\n",
       "        var display = window.getComputedStyle(gd).display;\n",
       "        if (!display || display === 'none') {{\n",
       "            console.log([gd, 'removed!']);\n",
       "            Plotly.purge(gd);\n",
       "            observer.disconnect();\n",
       "        }}\n",
       "}});\n",
       "\n",
       "// Listen for the removal of the full notebook cells\n",
       "var notebookContainer = gd.closest('#notebook-container');\n",
       "if (notebookContainer) {{\n",
       "    x.observe(notebookContainer, {childList: true});\n",
       "}}\n",
       "\n",
       "// Listen for the clearing of the current output cell\n",
       "var outputEl = gd.closest('.output');\n",
       "if (outputEl) {{\n",
       "    x.observe(outputEl, {childList: true});\n",
       "}}\n",
       "\n",
       "                        })                };                });            </script>        </div>"
      ]
     },
     "metadata": {},
     "output_type": "display_data"
    }
   ],
   "source": [
    "fig = px.imshow(df[['HeartDisease', 'Smoking', 'AlcoholDrinking', 'Stroke', 'DiffWalking', 'Sex',\n",
    "                    'PhysicalActivity', 'Asthma', 'KidneyDisease', 'SkinCancer','BMI', 'PhysicalHealth',\n",
    "                    'MentalHealth', 'AgeCategory', 'SleepTime']].corr())\n",
    "fig.update_layout(height=800)\n",
    "fig.show()"
   ]
  },
  {
   "cell_type": "markdown",
   "id": "47a76ea3",
   "metadata": {},
   "source": [
    "### Przygotowanie zbioru treningowego i walidacyjnego"
   ]
  },
  {
   "cell_type": "markdown",
   "id": "6b4bba24",
   "metadata": {},
   "source": [
    "Dzielimy zbiór danych w następujący sposób: 80% dane treningowe, 20% dane walidacyjne"
   ]
  },
  {
   "cell_type": "code",
   "execution_count": 110,
   "id": "f7848e85",
   "metadata": {},
   "outputs": [
    {
     "name": "stdout",
     "output_type": "stream",
     "text": [
      "\n",
      "Train:\n",
      "0    233851\n",
      "1     21985\n",
      "Name: HeartDisease, dtype: int64\n",
      "\n",
      "Val:\n",
      "0    58571\n",
      "1     5388\n",
      "Name: HeartDisease, dtype: int64\n"
     ]
    }
   ],
   "source": [
    "train_df = df[:int(len(df)*0.8)]\n",
    "val_df = df[int(len(df)*0.8):]\n",
    "\n",
    "print('\\nTrain:')\n",
    "print(train_df['HeartDisease'].value_counts())\n",
    "\n",
    "print('\\nVal:')\n",
    "print(val_df['HeartDisease'].value_counts())"
   ]
  },
  {
   "cell_type": "markdown",
   "id": "a2ec461c",
   "metadata": {},
   "source": [
    "Tak jak wspomniałem wyżej, dane nie są zbalansowane, zatem zoversamplujmy:"
   ]
  },
  {
   "cell_type": "code",
   "execution_count": 111,
   "id": "0e5cd23b",
   "metadata": {},
   "outputs": [
    {
     "name": "stdout",
     "output_type": "stream",
     "text": [
      "Data in Train:\n",
      "0    233851\n",
      "1    233851\n",
      "Name: HeartDisease, dtype: int64\n"
     ]
    }
   ],
   "source": [
    "class_0 = train_df[train_df['HeartDisease'] == 0]\n",
    "class_1 = train_df[train_df['HeartDisease'] == 1]\n",
    "\n",
    "class_1 = class_1.sample(len(class_0),replace=True)\n",
    "train_df = pd.concat([class_0, class_1], axis=0)\n",
    "print('Train:')\n",
    "print(train_df['HeartDisease'].value_counts())"
   ]
  },
  {
   "cell_type": "code",
   "execution_count": 112,
   "id": "27babb64",
   "metadata": {},
   "outputs": [
    {
     "name": "stdout",
     "output_type": "stream",
     "text": [
      "Data in Test:\n",
      "0    58571\n",
      "1    58571\n",
      "Name: HeartDisease, dtype: int64\n"
     ]
    }
   ],
   "source": [
    "class_0 = val_df[val_df['HeartDisease'] == 0]\n",
    "class_1 = val_df[val_df['HeartDisease'] == 1]\n",
    "\n",
    "class_1 = class_1.sample(len(class_0),replace=True)\n",
    "val_df = pd.concat([class_0, class_1], axis=0)\n",
    "print('Data in Test:')\n",
    "print(val_df['HeartDisease'].value_counts())"
   ]
  },
  {
   "cell_type": "code",
   "execution_count": 113,
   "id": "26b47979",
   "metadata": {},
   "outputs": [],
   "source": [
    "X_train = np.array(train_df[['BMI', 'Smoking', 'AlcoholDrinking', 'Stroke',\n",
    "       'PhysicalHealth', 'MentalHealth', 'DiffWalking', 'Sex', 'AgeCategory',\n",
    "       'PhysicalActivity', 'SleepTime', 'Asthma', 'KidneyDisease',\n",
    "       'SkinCancer', 'Race_American Indian/Alaskan Native', 'Race_Asian',\n",
    "       'Race_Black', 'Race_Hispanic', 'Race_Other', 'Race_White',\n",
    "       'Diabetic_No', 'Diabetic_No, borderline diabetes', 'Diabetic_Yes',\n",
    "       'Diabetic_Yes (during pregnancy)', 'GenHealth_Excellent',\n",
    "       'GenHealth_Fair', 'GenHealth_Good', 'GenHealth_Poor',\n",
    "       'GenHealth_Very good']])\n",
    "y_train = np.array(train_df['HeartDisease'])\n",
    "\n",
    "X_val = np.array(val_df[['BMI', 'Smoking', 'AlcoholDrinking', 'Stroke',\n",
    "       'PhysicalHealth', 'MentalHealth', 'DiffWalking', 'Sex', 'AgeCategory',\n",
    "       'PhysicalActivity', 'SleepTime', 'Asthma', 'KidneyDisease',\n",
    "       'SkinCancer', 'Race_American Indian/Alaskan Native', 'Race_Asian',\n",
    "       'Race_Black', 'Race_Hispanic', 'Race_Other', 'Race_White',\n",
    "       'Diabetic_No', 'Diabetic_No, borderline diabetes', 'Diabetic_Yes',\n",
    "       'Diabetic_Yes (during pregnancy)', 'GenHealth_Excellent',\n",
    "       'GenHealth_Fair', 'GenHealth_Good', 'GenHealth_Poor',\n",
    "       'GenHealth_Very good']])\n",
    "y_val = np.array(val_df['HeartDisease'])"
   ]
  },
  {
   "cell_type": "markdown",
   "id": "fd8813e1",
   "metadata": {},
   "source": [
    "# Modele treningowe"
   ]
  },
  {
   "cell_type": "markdown",
   "id": "593ed7d4",
   "metadata": {},
   "source": [
    "## Regresja logistyczna"
   ]
  },
  {
   "cell_type": "code",
   "execution_count": 129,
   "id": "be581eff",
   "metadata": {},
   "outputs": [
    {
     "name": "stdout",
     "output_type": "stream",
     "text": [
      "              precision    recall  f1-score   support\n",
      "\n",
      "           0       0.76      0.75      0.76     58571\n",
      "           1       0.76      0.77      0.76     58571\n",
      "\n",
      "    accuracy                           0.76    117142\n",
      "   macro avg       0.76      0.76      0.76    117142\n",
      "weighted avg       0.76      0.76      0.76    117142\n",
      "\n"
     ]
    }
   ],
   "source": [
    "lr = LogisticRegression(max_iter = 600)\n",
    "\n",
    "lr.fit(X_train, y_train)\n",
    "\n",
    "y_pred_lr = lr.predict(X_val)\n",
    "\n",
    "print(classification_report(y_val,y_pred_lr))"
   ]
  },
  {
   "cell_type": "markdown",
   "id": "19eb7d7a",
   "metadata": {},
   "source": [
    "## RandomForestClassifier"
   ]
  },
  {
   "cell_type": "code",
   "execution_count": 116,
   "id": "ce11b296",
   "metadata": {},
   "outputs": [
    {
     "name": "stdout",
     "output_type": "stream",
     "text": [
      "              precision    recall  f1-score   support\n",
      "\n",
      "           0       0.55      0.95      0.70     58571\n",
      "           1       0.83      0.22      0.35     58571\n",
      "\n",
      "    accuracy                           0.59    117142\n",
      "   macro avg       0.69      0.59      0.52    117142\n",
      "weighted avg       0.69      0.59      0.52    117142\n",
      "\n"
     ]
    }
   ],
   "source": [
    "rf = RandomForestClassifier().fit(X_train, y_train)\n",
    "\n",
    "y_pred_rf = rf.predict(X_val)\n",
    "\n",
    "print(classification_report(y_val,y_pred_rf))"
   ]
  },
  {
   "cell_type": "markdown",
   "id": "2cec1766",
   "metadata": {},
   "source": [
    "## K Nearest Neighbors"
   ]
  },
  {
   "cell_type": "code",
   "execution_count": 130,
   "id": "0ff9821f",
   "metadata": {},
   "outputs": [
    {
     "name": "stdout",
     "output_type": "stream",
     "text": [
      "              precision    recall  f1-score   support\n",
      "\n",
      "           0       0.55      0.95      0.70     58571\n",
      "           1       0.83      0.22      0.35     58571\n",
      "\n",
      "    accuracy                           0.59    117142\n",
      "   macro avg       0.69      0.59      0.52    117142\n",
      "weighted avg       0.69      0.59      0.52    117142\n",
      "\n"
     ]
    }
   ],
   "source": [
    "knn = KNeighborsClassifier()\n",
    "\n",
    "knn.fit(X_train, y_train)\n",
    "\n",
    "y_pred_knn = knn.predict(X_val)\n",
    "\n",
    "print(classification_report(y_val,y_pred_rf))"
   ]
  },
  {
   "cell_type": "markdown",
   "id": "6f3ccbe2",
   "metadata": {},
   "source": [
    "## SVM Poly"
   ]
  },
  {
   "cell_type": "code",
   "execution_count": null,
   "id": "2f1bb4de",
   "metadata": {},
   "outputs": [],
   "source": [
    "knn = KNeighborsClassifier()\n",
    "\n",
    "knn.fit(X_train, y_train)\n",
    "\n",
    "y_pred_knn = knn.predict(X_val)\n",
    "\n",
    "print(classification_report(y_val,y_pred_rf))"
   ]
  }
 ],
 "metadata": {
  "kernelspec": {
   "display_name": "Python 3 (ipykernel)",
   "language": "python",
   "name": "python3"
  },
  "language_info": {
   "codemirror_mode": {
    "name": "ipython",
    "version": 3
   },
   "file_extension": ".py",
   "mimetype": "text/x-python",
   "name": "python",
   "nbconvert_exporter": "python",
   "pygments_lexer": "ipython3",
   "version": "3.9.12"
  }
 },
 "nbformat": 4,
 "nbformat_minor": 5
}
